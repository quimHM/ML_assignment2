{
  "nbformat": 4,
  "nbformat_minor": 0,
  "metadata": {
    "colab": {
      "name": "MLa2_QUIMHM.ipynb",
      "provenance": []
    },
    "kernelspec": {
      "name": "python3",
      "display_name": "Python 3"
    },
    "language_info": {
      "name": "python"
    }
  },
  "cells": [
    {
      "cell_type": "markdown",
      "metadata": {
        "id": "Et7M8ggDr-Tn"
      },
      "source": [
        "https://www.tutorialguruji.com/python/classification-ann-stuck-at-60/"
      ]
    },
    {
      "cell_type": "code",
      "metadata": {
        "id": "KpzuLGmGpo2A"
      },
      "source": [
        "import pandas as pd\n",
        "import numpy as np\n",
        "import matplotlib.pyplot as plt\n",
        "\n",
        "from sklearn.model_selection import train_test_split\n",
        "from sklearn.preprocessing import StandardScaler\n",
        "from sklearn.metrics import confusion_matrix\n",
        "from sklearn.metrics import roc_curve,roc_auc_score\n",
        "\n",
        "import tensorflow as tf\n",
        "from tensorflow.keras.wrappers.scikit_learn import KerasClassifier"
      ],
      "execution_count": null,
      "outputs": []
    },
    {
      "cell_type": "code",
      "metadata": {
        "colab": {
          "base_uri": "https://localhost:8080/"
        },
        "id": "GgJNp7AbpZ6A",
        "outputId": "ccce58c7-3c53-47f4-d100-a28dca1ce825"
      },
      "source": [
        "from google.colab import drive #TODO: COMMENT TO RUN LOCALY\n",
        "drive.mount('/content/drive')#TODO: COMMENT TO RUN LOCALY"
      ],
      "execution_count": null,
      "outputs": [
        {
          "output_type": "stream",
          "name": "stdout",
          "text": [
            "Mounted at /content/drive\n"
          ]
        }
      ]
    },
    {
      "cell_type": "code",
      "metadata": {
        "colab": {
          "base_uri": "https://localhost:8080/",
          "height": 202
        },
        "id": "uYM4mySapciZ",
        "outputId": "ce4db70e-7984-4548-9146-35dd322c9a0d"
      },
      "source": [
        "# Load dataset\n",
        "dataset = pd.read_csv('/content/drive/MyDrive/ML (maynooth)/train-io.txt', sep=' ', header=None)#TODO: COMMENT TO RUN LOCALY\n",
        "\n",
        "#dataset = pd.read_csv('/train-io.txt', sep=' ', header=None) #TODO: UNCOMMENT FOR LOCAL EXECUTION, IF INPUT IN THE SAME DIRECTORY\n",
        "# Inspect data\n",
        "dataset.head()"
      ],
      "execution_count": 64,
      "outputs": [
        {
          "output_type": "execute_result",
          "data": {
            "text/html": [
              "<div>\n",
              "<style scoped>\n",
              "    .dataframe tbody tr th:only-of-type {\n",
              "        vertical-align: middle;\n",
              "    }\n",
              "\n",
              "    .dataframe tbody tr th {\n",
              "        vertical-align: top;\n",
              "    }\n",
              "\n",
              "    .dataframe thead th {\n",
              "        text-align: right;\n",
              "    }\n",
              "</style>\n",
              "<table border=\"1\" class=\"dataframe\">\n",
              "  <thead>\n",
              "    <tr style=\"text-align: right;\">\n",
              "      <th></th>\n",
              "      <th>0</th>\n",
              "      <th>1</th>\n",
              "      <th>2</th>\n",
              "      <th>3</th>\n",
              "      <th>4</th>\n",
              "      <th>5</th>\n",
              "      <th>6</th>\n",
              "      <th>7</th>\n",
              "      <th>8</th>\n",
              "      <th>9</th>\n",
              "      <th>10</th>\n",
              "    </tr>\n",
              "  </thead>\n",
              "  <tbody>\n",
              "    <tr>\n",
              "      <th>0</th>\n",
              "      <td>2.755260</td>\n",
              "      <td>0.130493</td>\n",
              "      <td>3.94066</td>\n",
              "      <td>0.575958</td>\n",
              "      <td>-3.07717</td>\n",
              "      <td>1.772130</td>\n",
              "      <td>-1.124320</td>\n",
              "      <td>-3.15380</td>\n",
              "      <td>2.371220</td>\n",
              "      <td>-2.752850</td>\n",
              "      <td>0</td>\n",
              "    </tr>\n",
              "    <tr>\n",
              "      <th>1</th>\n",
              "      <td>2.124190</td>\n",
              "      <td>-1.272880</td>\n",
              "      <td>1.19663</td>\n",
              "      <td>0.554622</td>\n",
              "      <td>-2.48804</td>\n",
              "      <td>0.578238</td>\n",
              "      <td>0.564368</td>\n",
              "      <td>-2.88063</td>\n",
              "      <td>-0.613447</td>\n",
              "      <td>-0.269964</td>\n",
              "      <td>1</td>\n",
              "    </tr>\n",
              "    <tr>\n",
              "      <th>2</th>\n",
              "      <td>0.762264</td>\n",
              "      <td>-0.946171</td>\n",
              "      <td>2.08249</td>\n",
              "      <td>0.723713</td>\n",
              "      <td>-1.85893</td>\n",
              "      <td>0.448780</td>\n",
              "      <td>-0.093424</td>\n",
              "      <td>-0.57777</td>\n",
              "      <td>0.423647</td>\n",
              "      <td>0.077900</td>\n",
              "      <td>1</td>\n",
              "    </tr>\n",
              "    <tr>\n",
              "      <th>3</th>\n",
              "      <td>3.720380</td>\n",
              "      <td>0.179464</td>\n",
              "      <td>2.33424</td>\n",
              "      <td>-0.132556</td>\n",
              "      <td>-2.99788</td>\n",
              "      <td>0.045012</td>\n",
              "      <td>-0.403001</td>\n",
              "      <td>-2.24686</td>\n",
              "      <td>0.910226</td>\n",
              "      <td>-0.014559</td>\n",
              "      <td>1</td>\n",
              "    </tr>\n",
              "    <tr>\n",
              "      <th>4</th>\n",
              "      <td>4.389430</td>\n",
              "      <td>-0.884852</td>\n",
              "      <td>2.97928</td>\n",
              "      <td>-0.040887</td>\n",
              "      <td>-4.25749</td>\n",
              "      <td>1.564560</td>\n",
              "      <td>-0.312435</td>\n",
              "      <td>-5.11924</td>\n",
              "      <td>0.768608</td>\n",
              "      <td>-2.495500</td>\n",
              "      <td>1</td>\n",
              "    </tr>\n",
              "  </tbody>\n",
              "</table>\n",
              "</div>"
            ],
            "text/plain": [
              "         0         1        2         3   ...       7         8         9   10\n",
              "0  2.755260  0.130493  3.94066  0.575958  ... -3.15380  2.371220 -2.752850   0\n",
              "1  2.124190 -1.272880  1.19663  0.554622  ... -2.88063 -0.613447 -0.269964   1\n",
              "2  0.762264 -0.946171  2.08249  0.723713  ... -0.57777  0.423647  0.077900   1\n",
              "3  3.720380  0.179464  2.33424 -0.132556  ... -2.24686  0.910226 -0.014559   1\n",
              "4  4.389430 -0.884852  2.97928 -0.040887  ... -5.11924  0.768608 -2.495500   1\n",
              "\n",
              "[5 rows x 11 columns]"
            ]
          },
          "metadata": {},
          "execution_count": 64
        }
      ]
    },
    {
      "cell_type": "code",
      "metadata": {
        "id": "Eri9MUPSpiu6",
        "colab": {
          "base_uri": "https://localhost:8080/"
        },
        "outputId": "6ead034f-f7e3-4bd8-9c74-eb71a3e6c8d7"
      },
      "source": [
        "# Print summary statistics\n",
        "print(dataset.describe())\n",
        "# Print DataFrame information\n",
        "print(dataset.describe().info())"
      ],
      "execution_count": 67,
      "outputs": [
        {
          "output_type": "stream",
          "name": "stdout",
          "text": [
            "                  0              1   ...             9              10\n",
            "count  100000.000000  100000.000000  ...  100000.000000  100000.000000\n",
            "mean        2.299265      -0.573524  ...      -1.151174       0.492270\n",
            "std         1.059917       0.571113  ...       1.187343       0.499943\n",
            "min        -1.657900      -2.574050  ...      -5.184450       0.000000\n",
            "25%         1.561450      -0.974358  ...      -1.979262       0.000000\n",
            "50%         2.302665      -0.573500  ...      -1.148735       0.000000\n",
            "75%         3.040745      -0.172542  ...      -0.322419       1.000000\n",
            "max         6.191980       1.369090  ...       3.088490       1.000000\n",
            "\n",
            "[8 rows x 11 columns]\n",
            "<class 'pandas.core.frame.DataFrame'>\n",
            "Index: 8 entries, count to max\n",
            "Data columns (total 11 columns):\n",
            " #   Column  Non-Null Count  Dtype  \n",
            "---  ------  --------------  -----  \n",
            " 0   0       8 non-null      float64\n",
            " 1   1       8 non-null      float64\n",
            " 2   2       8 non-null      float64\n",
            " 3   3       8 non-null      float64\n",
            " 4   4       8 non-null      float64\n",
            " 5   5       8 non-null      float64\n",
            " 6   6       8 non-null      float64\n",
            " 7   7       8 non-null      float64\n",
            " 8   8       8 non-null      float64\n",
            " 9   9       8 non-null      float64\n",
            " 10  10      8 non-null      float64\n",
            "dtypes: float64(11)\n",
            "memory usage: 768.0+ bytes\n",
            "None\n"
          ]
        }
      ]
    },
    {
      "cell_type": "code",
      "metadata": {
        "colab": {
          "base_uri": "https://localhost:8080/"
        },
        "id": "xiuolDSupsLd",
        "outputId": "8229d305-9dfd-4d21-e925-81621327653e"
      },
      "source": [
        "# Segregate features and labels into separate variables\n",
        "X, y = dataset.iloc[:, 0: 10].values, dataset.iloc[:,10].values\n",
        "\n",
        "# Split into train and test sets\n",
        "X_train, X_test, y_train, y_test = train_test_split(X, y, test_size = 0.33, random_state = 69)\n",
        "print(X_train.shape, X_test.shape, y_train.shape, y_test.shape)\n",
        "\n",
        "sc = StandardScaler()\n",
        "X_train = sc.fit_transform(X_train)\n",
        "X_test = sc.transform(X_test)"
      ],
      "execution_count": null,
      "outputs": [
        {
          "output_type": "stream",
          "name": "stdout",
          "text": [
            "(67000, 10) (33000, 10) (67000,) (33000,)\n"
          ]
        }
      ]
    },
    {
      "cell_type": "code",
      "metadata": {
        "id": "KI3evDy_hmgU"
      },
      "source": [
        "col_count = X.shape[1]\n",
        "activator = 'relu'\n",
        "nodes = 1000 \n",
        "max_layers = 2\n",
        "max_epochs = 50\n",
        "max_batch = 256\n",
        "loss_funct = 'binary_crossentropy' \n",
        "last_act = 'sigmoid'\n",
        "adam = tf.keras.optimizers.Adam(learning_rate=0.001)\n",
        "\n",
        "def baseline_model():\n",
        "    # create model\n",
        "    model = tf.keras.Sequential()\n",
        "    model.add(tf.keras.layers.Dense(nodes, input_dim=col_count, activation=activator))\n",
        "    for x in range(0, max_layers):\n",
        "        #model.add(Dropout(0.2))\n",
        "        model.add(tf.keras.layers.Dense(nodes, input_dim=nodes, activation=activator))    \n",
        "    #model.add(BatchNormalization())\n",
        "    model.add(tf.keras.layers.Dense(1, activation=last_act))\n",
        "    # Compile model\n",
        "    model.compile(loss=loss_funct, optimizer=adam, metrics=['accuracy'])\n",
        "    return model"
      ],
      "execution_count": 57,
      "outputs": []
    },
    {
      "cell_type": "code",
      "metadata": {
        "colab": {
          "base_uri": "https://localhost:8080/"
        },
        "id": "KPKb6Mk6zalf",
        "outputId": "4b1d8da0-b897-41a3-a51f-195a01c5b280"
      },
      "source": [
        "estimator = KerasClassifier(build_fn=baseline_model, epochs=max_epochs, batch_size=max_batch)\n",
        "estimator.fit(X_train,y_train)"
      ],
      "execution_count": 58,
      "outputs": [
        {
          "output_type": "stream",
          "name": "stdout",
          "text": [
            "Epoch 1/50\n",
            "262/262 [==============================] - 17s 64ms/step - loss: 0.6938 - accuracy: 0.5122\n",
            "Epoch 2/50\n",
            "262/262 [==============================] - 17s 65ms/step - loss: 0.6918 - accuracy: 0.5240\n",
            "Epoch 3/50\n",
            "262/262 [==============================] - 17s 65ms/step - loss: 0.6845 - accuracy: 0.5518\n",
            "Epoch 4/50\n",
            "262/262 [==============================] - 17s 65ms/step - loss: 0.6665 - accuracy: 0.5678\n",
            "Epoch 5/50\n",
            "262/262 [==============================] - 17s 65ms/step - loss: 0.6530 - accuracy: 0.5741\n",
            "Epoch 6/50\n",
            "262/262 [==============================] - 17s 65ms/step - loss: 0.6469 - accuracy: 0.5838\n",
            "Epoch 7/50\n",
            "262/262 [==============================] - 17s 66ms/step - loss: 0.6438 - accuracy: 0.5886\n",
            "Epoch 8/50\n",
            "262/262 [==============================] - 17s 65ms/step - loss: 0.6394 - accuracy: 0.5976\n",
            "Epoch 9/50\n",
            "262/262 [==============================] - 17s 65ms/step - loss: 0.6357 - accuracy: 0.6075\n",
            "Epoch 10/50\n",
            "262/262 [==============================] - 17s 66ms/step - loss: 0.6296 - accuracy: 0.6165\n",
            "Epoch 11/50\n",
            "262/262 [==============================] - 17s 66ms/step - loss: 0.6190 - accuracy: 0.6356\n",
            "Epoch 12/50\n",
            "262/262 [==============================] - 17s 65ms/step - loss: 0.6033 - accuracy: 0.6552\n",
            "Epoch 13/50\n",
            "262/262 [==============================] - 17s 65ms/step - loss: 0.5886 - accuracy: 0.6743\n",
            "Epoch 14/50\n",
            "262/262 [==============================] - 17s 65ms/step - loss: 0.5704 - accuracy: 0.6916\n",
            "Epoch 15/50\n",
            "262/262 [==============================] - 17s 64ms/step - loss: 0.5548 - accuracy: 0.7048\n",
            "Epoch 16/50\n",
            "262/262 [==============================] - 17s 65ms/step - loss: 0.5399 - accuracy: 0.7181\n",
            "Epoch 17/50\n",
            "262/262 [==============================] - 17s 65ms/step - loss: 0.5259 - accuracy: 0.7309\n",
            "Epoch 18/50\n",
            "262/262 [==============================] - 17s 65ms/step - loss: 0.5099 - accuracy: 0.7411\n",
            "Epoch 19/50\n",
            "262/262 [==============================] - 17s 65ms/step - loss: 0.4977 - accuracy: 0.7507\n",
            "Epoch 20/50\n",
            "262/262 [==============================] - 17s 65ms/step - loss: 0.4867 - accuracy: 0.7566\n",
            "Epoch 21/50\n",
            "262/262 [==============================] - 17s 65ms/step - loss: 0.4752 - accuracy: 0.7660\n",
            "Epoch 22/50\n",
            "262/262 [==============================] - 17s 65ms/step - loss: 0.4660 - accuracy: 0.7710\n",
            "Epoch 23/50\n",
            "262/262 [==============================] - 17s 65ms/step - loss: 0.4581 - accuracy: 0.7779\n",
            "Epoch 24/50\n",
            "262/262 [==============================] - 17s 65ms/step - loss: 0.4492 - accuracy: 0.7838\n",
            "Epoch 25/50\n",
            "262/262 [==============================] - 17s 65ms/step - loss: 0.4359 - accuracy: 0.7934\n",
            "Epoch 26/50\n",
            "262/262 [==============================] - 17s 65ms/step - loss: 0.4212 - accuracy: 0.8027\n",
            "Epoch 27/50\n",
            "262/262 [==============================] - 17s 65ms/step - loss: 0.4112 - accuracy: 0.8100\n",
            "Epoch 28/50\n",
            "262/262 [==============================] - 17s 65ms/step - loss: 0.4011 - accuracy: 0.8165\n",
            "Epoch 29/50\n",
            "262/262 [==============================] - 17s 65ms/step - loss: 0.3842 - accuracy: 0.8261\n",
            "Epoch 30/50\n",
            "262/262 [==============================] - 17s 65ms/step - loss: 0.3792 - accuracy: 0.8300\n",
            "Epoch 31/50\n",
            "262/262 [==============================] - 17s 65ms/step - loss: 0.3683 - accuracy: 0.8362\n",
            "Epoch 32/50\n",
            "262/262 [==============================] - 17s 64ms/step - loss: 0.3595 - accuracy: 0.8406\n",
            "Epoch 33/50\n",
            "262/262 [==============================] - 17s 65ms/step - loss: 0.3554 - accuracy: 0.8417\n",
            "Epoch 34/50\n",
            "262/262 [==============================] - 17s 66ms/step - loss: 0.3422 - accuracy: 0.8489\n",
            "Epoch 35/50\n",
            "262/262 [==============================] - 18s 68ms/step - loss: 0.3388 - accuracy: 0.8506\n",
            "Epoch 36/50\n",
            "262/262 [==============================] - 18s 68ms/step - loss: 0.3267 - accuracy: 0.8562\n",
            "Epoch 37/50\n",
            "262/262 [==============================] - 18s 67ms/step - loss: 0.3239 - accuracy: 0.8578\n",
            "Epoch 38/50\n",
            "262/262 [==============================] - 18s 67ms/step - loss: 0.3153 - accuracy: 0.8633\n",
            "Epoch 39/50\n",
            "262/262 [==============================] - 17s 67ms/step - loss: 0.3125 - accuracy: 0.8639\n",
            "Epoch 40/50\n",
            "262/262 [==============================] - 18s 68ms/step - loss: 0.3059 - accuracy: 0.8667\n",
            "Epoch 41/50\n",
            "262/262 [==============================] - 17s 65ms/step - loss: 0.2988 - accuracy: 0.8710\n",
            "Epoch 42/50\n",
            "262/262 [==============================] - 17s 65ms/step - loss: 0.2939 - accuracy: 0.8731\n",
            "Epoch 43/50\n",
            "262/262 [==============================] - 17s 65ms/step - loss: 0.2843 - accuracy: 0.8765\n",
            "Epoch 44/50\n",
            "262/262 [==============================] - 17s 67ms/step - loss: 0.2802 - accuracy: 0.8808\n",
            "Epoch 45/50\n",
            "262/262 [==============================] - 18s 67ms/step - loss: 0.2820 - accuracy: 0.8811\n",
            "Epoch 46/50\n",
            "262/262 [==============================] - 18s 68ms/step - loss: 0.2784 - accuracy: 0.8816\n",
            "Epoch 47/50\n",
            "262/262 [==============================] - 17s 66ms/step - loss: 0.2645 - accuracy: 0.8872\n",
            "Epoch 48/50\n",
            "262/262 [==============================] - 17s 66ms/step - loss: 0.2684 - accuracy: 0.8866\n",
            "Epoch 49/50\n",
            "262/262 [==============================] - 17s 67ms/step - loss: 0.2644 - accuracy: 0.8889\n",
            "Epoch 50/50\n",
            "262/262 [==============================] - 17s 66ms/step - loss: 0.2599 - accuracy: 0.8899\n"
          ]
        },
        {
          "output_type": "execute_result",
          "data": {
            "text/plain": [
              "<keras.callbacks.History at 0x7f0d7f594890>"
            ]
          },
          "metadata": {},
          "execution_count": 58
        }
      ]
    },
    {
      "cell_type": "code",
      "metadata": {
        "colab": {
          "base_uri": "https://localhost:8080/"
        },
        "id": "unTLuQRQ0KpW",
        "outputId": "3b8e9406-7f8a-4a0e-d523-ec3fd7c231c1"
      },
      "source": [
        "y_pred = estimator.predict(X_test)\n",
        "cm = confusion_matrix(y_test, y_pred)\n",
        "score = np.sum(cm.diagonal())/float(np.sum(cm))\n",
        "print(score)\n",
        "\n",
        "sum=0\n",
        "total=0\n",
        "for y1,y2 in zip(y_test,y_pred):\n",
        "  if y1==y2: sum+=1\n",
        "  total+=1\n",
        "print(sum, sum/total)\n",
        "\n",
        "y_pred = estimator.predict(X_train)\n",
        "sum=0\n",
        "total=0\n",
        "for y1,y2 in zip(y_train,y_pred):\n",
        "  if y1==y2: sum+=1\n",
        "  total+=1\n",
        "print(sum, sum/total)"
      ],
      "execution_count": 59,
      "outputs": [
        {
          "output_type": "stream",
          "name": "stdout",
          "text": [
            "0.8372424242424242\n",
            "27629 0.8372424242424242\n",
            "60345 0.9006716417910448\n"
          ]
        }
      ]
    },
    {
      "cell_type": "code",
      "metadata": {
        "colab": {
          "base_uri": "https://localhost:8080/"
        },
        "id": "Qq6XI_GOqqb2",
        "outputId": "58f6dd0d-5f47-43a3-ee37-b19daa849f23"
      },
      "source": [
        "X_assessment = pd.read_csv('/content/drive/MyDrive/ML (maynooth)/test-i.txt', sep=' ', header=None) #TODO:COMMENT\n",
        "#X_assessment = pd.read_csv('/test-i.txt', sep=' ', header=None) #TODO:UNCOMMENT\n",
        "X_assessment = sc.transform(X_assessment)\n",
        "y_pred = estimator.predict(X_assessment)\n",
        "print(y_pred)\n",
        "\n",
        "np.savetxt(\"/content/drive/MyDrive/ML (maynooth)/test-o.txt\", y_pred, delimiter=\"\\n\",fmt='%d') #TODO:COMMENT\n",
        "#np.savetxt(\"/test-o.txt\", y_pred, delimiter=\"\\n\",fmt='%d') #TODO:UNCOMMENT\n"
      ],
      "execution_count": 60,
      "outputs": [
        {
          "output_type": "stream",
          "name": "stdout",
          "text": [
            "[[0]\n",
            " [0]\n",
            " [0]\n",
            " ...\n",
            " [1]\n",
            " [1]\n",
            " [0]]\n"
          ]
        }
      ]
    },
    {
      "cell_type": "code",
      "metadata": {
        "id": "ysZAyDhdSny1"
      },
      "source": [
        "y_prob = overfit1.predict_proba(X_test)\n",
        "fpr250, tpr250, thresholds = roc_curve(y_test,y_prob[:,1])\n",
        "auc_score250=roc_auc_score(y_test,y_prob[:,1])\n",
        "\n",
        "y_prob = overfit2.predict_proba(X_test)\n",
        "fpr100, tpr100, thresholds = roc_curve(y_test,y_prob[:,1])\n",
        "auc_score100=roc_auc_score(y_test,y_prob[:,1])\n",
        "\n",
        "y_prob = overfit3.predict_proba(X_test)\n",
        "fpr75, tpr75, thresholds = roc_curve(y_test,y_prob[:,1])\n",
        "auc_score75=roc_auc_score(y_test,y_prob[:,1])\n",
        "\n",
        "y_prob = overfit4.predict_proba(X_test)\n",
        "fpr50, tpr50, thresholds = roc_curve(y_test,y_prob[:,1])\n",
        "auc_score50=roc_auc_score(y_test,y_prob[:,1])\n"
      ],
      "execution_count": null,
      "outputs": []
    },
    {
      "cell_type": "code",
      "metadata": {
        "colab": {
          "base_uri": "https://localhost:8080/"
        },
        "id": "Hr9wW_HpIz_a",
        "outputId": "563069a4-4df0-4f82-fb8e-c8a0c183b247"
      },
      "source": [
        "y_prob = estimator.predict_proba(X_test)\n",
        "fpr25, tpr25, thresholds = roc_curve(y_test,y_prob[:,1])\n",
        "auc_score25=roc_auc_score(y_test,y_prob[:,1])\n",
        "print(auc_score25)"
      ],
      "execution_count": 56,
      "outputs": [
        {
          "output_type": "stream",
          "name": "stdout",
          "text": [
            "0.874259225666635\n"
          ]
        }
      ]
    },
    {
      "cell_type": "code",
      "metadata": {
        "colab": {
          "base_uri": "https://localhost:8080/",
          "height": 301
        },
        "id": "3UnMIvPHneGm",
        "outputId": "e4cc254f-21c4-491b-d912-b26c28063e17"
      },
      "source": [
        "fprlist = [fpr250,fpr100,fpr75,fpr50]\n",
        "tprlist = [tpr250,tpr100,tpr75,tpr50]\n",
        "batcheslist = [250,100,75,50]\n",
        "auclist = [auc_score250,auc_score100, auc_score75, auc_score50]\n",
        "for i in range(len(fprlist)):\n",
        "  plt.plot(fprlist[i],tprlist[i], label=(str(batcheslist[i])+\" batches: \"+str(auclist[i]))) \n",
        "plt.axis([0,1,0,1]) \n",
        "plt.xlabel('False Positive Rate') \n",
        "plt.ylabel('True Positive Rate') \n",
        "plt.legend()\n",
        "plt.show()    \n",
        "\n",
        "print(auclist)"
      ],
      "execution_count": null,
      "outputs": [
        {
          "output_type": "display_data",
          "data": {
            "image/png": "[encoded data removed]",
            "text/plain": [
              "<Figure size 432x288 with 1 Axes>"
            ]
          },
          "metadata": {
            "needs_background": "light"
          }
        },
        {
          "output_type": "stream",
          "name": "stdout",
          "text": [
            "[0.8763402943899565, 0.9083028687957825, 0.89791166941766, 0.9196885917957638]\n"
          ]
        }
      ]
    },
    {
      "cell_type": "code",
      "metadata": {
        "id": "JKR4Z77lyw6m"
      },
      "source": [
        "n_e = 3\n",
        "experts = []\n",
        "max_epochs = 75\n",
        "max_batch = 256\n",
        "nodes = 1000//n_e\n",
        "for i in range(n_e):\n",
        "  inputX = X_train[i*len(X_train)//n_e:((i+1)*len(X_train)//n_e)-1]\n",
        "  inputY = y_train[i*len(y_train)//n_e:((i+1)*len(y_train)//n_e)-1]\n",
        "  experts.append(KerasClassifier(build_fn=baseline_model, epochs=max_epochs, batch_size=max_batch))\n",
        "  experts[i].fit(inputX,inputY)"
      ],
      "execution_count": null,
      "outputs": []
    },
    {
      "cell_type": "code",
      "metadata": {
        "colab": {
          "base_uri": "https://localhost:8080/"
        },
        "id": "YVpKAr0BpUxw",
        "outputId": "2e50c516-97da-4980-cb4d-307f633d21fe"
      },
      "source": [
        "y1 = experts[0].predict(X_test)\n",
        "y2 = experts[1].predict(X_test)\n",
        "y3 = experts[2].predict(X_test)\n",
        "y_pred = (y1+y2+y3>1.5)\n",
        "\n",
        "sum=0\n",
        "total=0\n",
        "for y1,y2 in zip(y_test,y_pred):\n",
        "  if y1==y2: sum+=1\n",
        "  total+=1\n",
        "print(sum, sum/total)"
      ],
      "execution_count": null,
      "outputs": [
        {
          "output_type": "stream",
          "name": "stdout",
          "text": [
            "19878 0.6023636363636363\n"
          ]
        }
      ]
    }
  ]
}