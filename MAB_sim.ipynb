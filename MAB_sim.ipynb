{
  "nbformat": 4,
  "nbformat_minor": 0,
  "metadata": {
    "colab": {
      "name": "MAB_sim.ipynb",
      "provenance": [],
      "collapsed_sections": [],
      "history_visible": true,
      "authorship_tag": "ABX9TyOWJt35et4TfrA6wpeanO9X",
      "include_colab_link": true
    },
    "kernelspec": {
      "name": "python3",
      "display_name": "Python 3"
    },
    "language_info": {
      "name": "python"
    }
  },
  "cells": [
    {
      "cell_type": "markdown",
      "metadata": {
        "id": "view-in-github",
        "colab_type": "text"
      },
      "source": [
        "<a href=\"https://colab.research.google.com/github/quimHM/ML_assignment2/blob/main/MAB_sim.ipynb\" target=\"_parent\"><img src=\"https://colab.research.google.com/assets/colab-badge.svg\" alt=\"Open In Colab\"/></a>"
      ]
    },
    {
      "cell_type": "code",
      "source": [
        "#https://towardsdatascience.com/multi-armed-bandits-and-reinforcement-learning-dc9001dcb8da\n",
        "#https://towardsdatascience.com/the-upper-confidence-bound-ucb-bandit-algorithm-c05c2bf4c13f\n",
        "\n",
        "#https://github.com/WhatIThinkAbout/BabyRobot/tree/master/Multi_Armed_Bandits"
      ],
      "metadata": {
        "id": "lch3cBlMon8x"
      },
      "execution_count": 2,
      "outputs": []
    },
    {
      "cell_type": "code",
      "source": [
        ""
      ],
      "metadata": {
        "id": "7XlcGP0_on6J"
      },
      "execution_count": 2,
      "outputs": []
    },
    {
      "cell_type": "code",
      "source": [
        "# import modules \n",
        "import numpy as np \n",
        "import matplotlib.pyplot as plt \n",
        "import pandas as pd \n",
        "import math\n",
        "import random\n",
        "%matplotlib inline"
      ],
      "metadata": {
        "id": "0Oh75adZ2qAY"
      },
      "execution_count": 4,
      "outputs": []
    },
    {
      "cell_type": "code",
      "source": [
        "class PowerSocket:\n",
        "    \"\"\" the base power socket class \"\"\"\n",
        "    \n",
        "    def __init__(self, q, cl, var=0.1):                \n",
        "        self.q = q        # the true reward value \n",
        "        self.confidence_level = cl          \n",
        "        self.var = var   \n",
        "        self.initialize() # reset the socket\n",
        "        \n",
        "    def initialize(self):\n",
        "        self.Q = 0   # the estimate of this socket's reward value                \n",
        "        self.n = 0   # the number of times this socket has been tried        \n",
        "    \n",
        "    def charge(self):\n",
        "        \"\"\" return a random amount of charge \"\"\"\n",
        "        \n",
        "        # the reward is a guassian distribution with unit variance around the true\n",
        "        # value 'q'\n",
        "        value = self.var * np.random.randn() + self.q        \n",
        "        \n",
        "        # never allow a charge less than 0 to be returned        \n",
        "        return 0 if value < 0 else value\n",
        "               \n",
        "    def update(self,R):\n",
        "        \"\"\" update this socket after it has returned reward value 'R' \"\"\"     \n",
        "    \n",
        "        # increment the number of times this socket has been tried\n",
        "        self.n += 1\n",
        "\n",
        "        # the new estimate of the mean is calculated from the old estimate\n",
        "        self.Q = (1 - 1.0/self.n) * self.Q + (1.0/self.n) * R\n",
        "\n",
        "    def uncertainty(self, t): \n",
        "        \"\"\" calculate the uncertainty in the estimate of this socket's mean \"\"\"\n",
        "        if self.n == 0: return float('inf')                         \n",
        "        return self.confidence_level * (np.sqrt(np.log(t) / self.n))         \n",
        "        \n",
        "    def sample(self,t):\n",
        "        \"\"\" the UCB reward is the estimate of the mean reward plus its uncertainty \"\"\"\n",
        "        #print(self.uncertainty(t))\n",
        "        return self.Q + self.uncertainty(t) "
      ],
      "metadata": {
        "id": "p8tfQUa07n9G"
      },
      "execution_count": 4,
      "outputs": []
    },
    {
      "cell_type": "code",
      "source": [
        "class PowerSocketProb:\n",
        "    \"\"\" the base power socket class \"\"\"\n",
        "    \n",
        "    def __init__(self, q, cl):                \n",
        "        self.q = q        # the true reward value \n",
        "        self.confidence_level = cl  \n",
        "        self.initialize() # reset the socket\n",
        "        \n",
        "    def initialize(self):\n",
        "        self.Q = 0   # the estimate of this socket's reward value                \n",
        "        self.n = 0   # the number of times this socket has been tried        \n",
        "    \n",
        "    def charge(self):\n",
        "        \"\"\" return a random amount of charge \"\"\"\n",
        "        \n",
        "        # the reward is a guassian distribution with unit variance around the true\n",
        "        # value 'q'\n",
        "        value = 100 * np.random.binomial(1,self.q)     \n",
        "        \n",
        "        # never allow a charge less than 0 to be returned        \n",
        "        return 0 if value < 0 else value\n",
        "               \n",
        "    def update(self,R):\n",
        "        \"\"\" update this socket after it has returned reward value 'R' \"\"\"     \n",
        "    \n",
        "        # increment the number of times this socket has been tried\n",
        "        self.n += 1\n",
        "\n",
        "        # the new estimate of the mean is calculated from the old estimate\n",
        "        self.Q = (1 - 1.0/self.n) * self.Q + (1.0/self.n) * R\n",
        "\n",
        "    def uncertainty(self, t): \n",
        "        \"\"\" calculate the uncertainty in the estimate of this socket's mean \"\"\"\n",
        "        if self.n == 0: return float('inf')                         \n",
        "        return self.confidence_level * (np.sqrt(np.log(t) / self.n))         \n",
        "        \n",
        "    def sample(self,t):\n",
        "        \"\"\" the UCB reward is the estimate of the mean reward plus its uncertainty \"\"\"\n",
        "        #print(self.uncertainty(t))\n",
        "        return self.Q + self.uncertainty(t) "
      ],
      "metadata": {
        "id": "ikVFqkh2KKSf"
      },
      "execution_count": 3,
      "outputs": []
    },
    {
      "cell_type": "code",
      "source": [
        "# return the index of the largest value in the supplied list\n",
        "# - arbitrarily select between the largest values in the case of a tie\n",
        "# (the standard np.argmax just chooses the first value in the case of a tie)\n",
        "def random_argmax(value_list):\n",
        "  \"\"\" a random tie-breaking argmax\"\"\"\n",
        "  values = np.asarray(value_list)\n",
        "  return np.argmax(np.random.random(values.shape) * (values==values.max()))\n",
        "\n",
        "# return the index of the smallest value in the supplied list\n",
        "# - arbitrarily select between the smallest values in the case of a tie\n",
        "# (the standard np.argmin just chooses the first value in the case of a tie)\n",
        "def random_argmin(value_list):\n",
        "  \"\"\" a random tie-breaking argmin\"\"\"\n",
        "  values = np.asarray(value_list)\n",
        "  return np.argmin(np.random.random(values.shape) * (values==values.min()))\n"
      ],
      "metadata": {
        "id": "AnVMnmyuEth1"
      },
      "execution_count": 2,
      "outputs": []
    },
    {
      "cell_type": "code",
      "source": [
        "class SocketTester():\n",
        "    \"\"\" create and test a set of sockets over a single test run \"\"\"\n",
        "\n",
        "    def __init__(self, socket, socket_order, socket_vars, confidence_level):  \n",
        "        \n",
        "        # create supplied socket type with a mean value defined by socket order \n",
        "        # self.sockets = [socket(q, confidence_level) for q in socket_order]     \n",
        "        self.sockets = [socket(socket_order[s], confidence_level, socket_vars[s]) for s in range(len(socket_order))]\n",
        "\n",
        "        # set the number of sockets equal to the number created\n",
        "        self.number_of_sockets = len(self.sockets)\n",
        "\n",
        "        self.number_of_stats = 2                 \n",
        "            \n",
        "    def initialize_run(self, number_of_steps):\n",
        "        \"\"\" reset counters at the start of a run \"\"\"\n",
        "        \n",
        "        # save the number of steps over which the run will take place\n",
        "        self.number_of_steps = number_of_steps\n",
        "        \n",
        "        # reset the actual number of steps that the test ran for\n",
        "        self.total_steps = 0\n",
        "        \n",
        "        # monitor the total reward obtained over the run\n",
        "        self.total_reward = 0\n",
        "        \n",
        "        # the current total reward at each timestep of the run\n",
        "        self.total_reward_per_timestep = []\n",
        "        \n",
        "        # the actual reward obtained at each timestep\n",
        "        self.reward_per_timestep = []\n",
        "           \n",
        "        # stats for each time-step\n",
        "        # - by default records: estimate, number of trials\n",
        "        self.socket_stats = np.zeros(shape=(number_of_steps+1, \n",
        "                                            self.number_of_sockets, \n",
        "                                            self.number_of_stats))\n",
        "        \n",
        "        # ensure that all sockets are re-initialized\n",
        "        for socket in self.sockets: socket.initialize()\n",
        "            \n",
        "                                \n",
        "    def charge_and_update(self,socket_index):\n",
        "        \"\"\" charge from & update the specified socket and associated parameters \"\"\"\n",
        "        \n",
        "        # charge from the chosen socket and update its mean reward value\n",
        "        reward = self.sockets[socket_index].charge()\n",
        "        self.sockets[socket_index].update(reward)\n",
        "\n",
        "        # update the total reward\n",
        "        self.total_reward += reward   \n",
        "        \n",
        "        # store the current total reward at this timestep\n",
        "        self.total_reward_per_timestep.append(self.total_reward)\n",
        "        \n",
        "        # store the reward obtained at this timestep\n",
        "        self.reward_per_timestep.append(reward)        \n",
        "        \n",
        "        \n",
        "    def get_socket_stats( self, t ):\n",
        "        \"\"\" get the current information from each socket \"\"\"        \n",
        "        socket_stats = [[socket.Q, socket.n] for socket in self.sockets]\n",
        "        return socket_stats     \n",
        "    \n",
        "    def get_mean_reward( self ):\n",
        "        \"\"\" the total reward averaged over the number of time steps \"\"\"\n",
        "        return (self.total_reward/self.total_steps)\n",
        "    \n",
        "    def get_total_reward_per_timestep( self ):\n",
        "        \"\"\" the cumulative total reward at each timestep of the run \"\"\"\n",
        "        return self.total_reward_per_timestep\n",
        "    \n",
        "    def get_reward_per_timestep( self ):\n",
        "        \"\"\" the actual reward obtained at each timestep of the run \"\"\"\n",
        "        return self.reward_per_timestep\n",
        "    \n",
        "    def get_estimates(self):\n",
        "        \"\"\" get the estimate of each socket's reward at each timestep of the run \"\"\"\n",
        "        return self.socket_stats[:,:,0]  \n",
        "    \n",
        "    def get_number_of_trials(self):\n",
        "        \"\"\" get the number of trials of each socket at each timestep of the run \"\"\"\n",
        "        return self.socket_stats[:,:,1]          \n",
        "                \n",
        "    def get_socket_percentages( self ):\n",
        "        \"\"\" get the percentage of times each socket was tried over the run \"\"\"\n",
        "        return (self.socket_stats[:,:,1][self.total_steps]/self.total_steps)        \n",
        "    \n",
        "    def get_time_steps( self ):\n",
        "        \"\"\" get the number of time steps that the test ran for \"\"\"\n",
        "        return self.total_steps\n",
        "    \n",
        "    def select_socket( self, t ):\n",
        "        \"\"\" Greedy Socket Selection\"\"\"\n",
        "        \n",
        "        # choose the socket with the current highest mean reward or arbitrarily\n",
        "        # select a socket in the case of a tie            \n",
        "        socket_index = random_argmax([socket.sample(t+1) for socket in self.sockets]) \n",
        "        return socket_index     \n",
        "    \n",
        "    \n",
        "    def run( self, number_of_steps, maximum_total_reward = float('inf')):  \n",
        "        \"\"\" perform a single run, over the set of sockets, \n",
        "            for the defined number of steps \"\"\"\n",
        "        \n",
        "        # reset the run counters\n",
        "        self.initialize_run(number_of_steps)\n",
        "        \n",
        "        # loop for the specified number of time-steps\n",
        "        for t in range(number_of_steps):\n",
        "\n",
        "            # get information about all sockets at the start of the time step\n",
        "            self.socket_stats[t] = self.get_socket_stats(t)            \n",
        "            \n",
        "            # select a socket\n",
        "            socket_index = self.select_socket(t)\n",
        "            \n",
        "            # charge from the chosen socket and update its mean reward value\n",
        "            self.charge_and_update(socket_index)\n",
        "            \n",
        "            # test if the accumulated total reward is greater than the maximum\n",
        "            if self.total_reward > maximum_total_reward:\n",
        "                break\n",
        "       \n",
        "        # save the actual number of steps that have been run\n",
        "        self.total_steps = t    \n",
        "    \n",
        "        # get the stats for each socket at the end of the run        \n",
        "        self.socket_stats[t+1] = self.get_socket_stats(t+1)           \n",
        "        \n",
        "        return self.total_steps, self.total_reward\n",
        "  "
      ],
      "metadata": {
        "id": "zCz0kAoMAizG"
      },
      "execution_count": 7,
      "outputs": []
    },
    {
      "cell_type": "code",
      "source": [
        "def mus_and_devs_random():\n",
        "  devs = []\n",
        "  mus = []\n",
        "  for i in range(8):\n",
        "    d = round(random.uniform(5.0,15.0),2)\n",
        "    m = round(random.uniform(70.0,100.0),2)\n",
        "    devs.append(d)\n",
        "    mus.append(m)\n",
        "  return mus,devs"
      ],
      "metadata": {
        "id": "qbUQFmEgOBaj"
      },
      "execution_count": 8,
      "outputs": []
    },
    {
      "cell_type": "code",
      "source": [
        "def mus_and_devs():\n",
        "  devs = [10.0]*8\n",
        "  mus = []\n",
        "  for i in range(8):\n",
        "    m = 100.0-i*5.0\n",
        "    mus.append(m)\n",
        "  return mus,devs"
      ],
      "metadata": {
        "id": "OaInX7jwOD_L"
      },
      "execution_count": 9,
      "outputs": []
    },
    {
      "cell_type": "code",
      "source": [
        "#mus,devs = mus_and_devs_random()\n",
        "mus,devs = mus_and_devs()\n",
        "\n",
        "#devs = [9.3, 5.67, 11.93, 9.18, 13.66, 8.94, 6.83, 7.91]\n",
        "#mus = [92.1, 98.48, 88.49, 80.36, 89.97, 73.78, 97.18, 91.52]\n",
        "\n",
        "print(devs)\n",
        "print(mus)\n",
        "test = SocketTester(PowerSocket, mus, devs, 5)\n",
        "test.run(1000)\n",
        "test.get_number_of_trials()[-1]"
      ],
      "metadata": {
        "colab": {
          "base_uri": "https://localhost:8080/"
        },
        "id": "pnakDg5QCwfq",
        "outputId": "a1b6e29c-be07-4ea7-bd95-bf18280a0447"
      },
      "execution_count": 10,
      "outputs": [
        {
          "output_type": "stream",
          "name": "stdout",
          "text": [
            "[10.0, 10.0, 10.0, 10.0, 10.0, 10.0, 10.0, 10.0]\n",
            "[100.0, 95.0, 90.0, 85.0, 80.0, 75.0, 70.0, 65.0]\n"
          ]
        },
        {
          "output_type": "execute_result",
          "data": {
            "text/plain": [
              "array([969.,  24.,   1.,   1.,   1.,   1.,   2.,   1.])"
            ]
          },
          "metadata": {},
          "execution_count": 10
        }
      ]
    },
    {
      "cell_type": "code",
      "source": [
        "class SocketTesterBatch():\n",
        "    \"\"\" create and test a set of sockets over a single test run \"\"\"\n",
        "\n",
        "    def __init__(self, socket, socket_order, socket_vars, confidence_level):  \n",
        "        \n",
        "        # create supplied socket type with a mean value defined by socket order \n",
        "        self.sockets = [socket(socket_order[s], confidence_level, socket_vars[s]) for s in range(len(socket_order))]\n",
        "        \n",
        "        # set the number of sockets equal to the number created\n",
        "        self.number_of_sockets = len(self.sockets)\n",
        "\n",
        "        self.number_of_stats = 2                 \n",
        "            \n",
        "    def initialize_run(self, number_of_steps):\n",
        "        \"\"\" reset counters at the start of a run \"\"\"\n",
        "        \n",
        "        # save the number of steps over which the run will take place\n",
        "        self.number_of_steps = number_of_steps\n",
        "        \n",
        "        # reset the actual number of steps that the test ran for\n",
        "        self.total_steps = 0\n",
        "        \n",
        "        # monitor the total reward obtained over the run\n",
        "        self.total_reward = 0\n",
        "        \n",
        "        # the current total reward at each timestep of the run\n",
        "        self.total_reward_per_timestep = []\n",
        "        \n",
        "        # the actual reward obtained at each timestep\n",
        "        self.reward_per_timestep = []\n",
        "           \n",
        "        # stats for each time-step\n",
        "        # - by default records: estimate, number of trials\n",
        "        self.socket_stats = np.zeros(shape=(number_of_steps+1, \n",
        "                                            self.number_of_sockets, \n",
        "                                            self.number_of_stats))\n",
        "        \n",
        "        # ensure that all sockets are re-initialized\n",
        "        for socket in self.sockets: socket.initialize()\n",
        "            \n",
        "                                \n",
        "    def charge_and_update(self,socket_index):\n",
        "        \"\"\" charge from & update the specified socket and associated parameters \"\"\"\n",
        "        \n",
        "        # charge from the chosen socket and update its mean reward value\n",
        "        reward = self.sockets[socket_index].charge()\n",
        "        self.sockets[socket_index].update(reward)\n",
        "\n",
        "        # update the total reward\n",
        "        self.total_reward += reward   \n",
        "        \n",
        "        # store the current total reward at this timestep\n",
        "        self.total_reward_per_timestep.append(self.total_reward)\n",
        "        \n",
        "        # store the reward obtained at this timestep\n",
        "        self.reward_per_timestep.append(reward)        \n",
        "        \n",
        "        \n",
        "    def get_socket_stats( self, t ):\n",
        "        \"\"\" get the current information from each socket \"\"\"        \n",
        "        socket_stats = [[socket.Q, socket.n] for socket in self.sockets]\n",
        "        return socket_stats     \n",
        "    \n",
        "    def get_mean_reward( self ):\n",
        "        \"\"\" the total reward averaged over the number of time steps \"\"\"\n",
        "        return (self.total_reward/self.total_steps)\n",
        "    \n",
        "    def get_total_reward_per_timestep( self ):\n",
        "        \"\"\" the cumulative total reward at each timestep of the run \"\"\"\n",
        "        return self.total_reward_per_timestep\n",
        "    \n",
        "    def get_reward_per_timestep( self ):\n",
        "        \"\"\" the actual reward obtained at each timestep of the run \"\"\"\n",
        "        return self.reward_per_timestep\n",
        "    \n",
        "    def get_estimates(self):\n",
        "        \"\"\" get the estimate of each socket's reward at each timestep of the run \"\"\"\n",
        "        return self.socket_stats[:,:,0]  \n",
        "    \n",
        "    def get_number_of_trials(self):\n",
        "        \"\"\" get the number of trials of each socket at each timestep of the run \"\"\"\n",
        "        return self.socket_stats[:,:,1]          \n",
        "                \n",
        "    def get_socket_percentages( self ):\n",
        "        \"\"\" get the percentage of times each socket was tried over the run \"\"\"\n",
        "        return (self.socket_stats[:,:,1][self.total_steps]/self.total_steps)        \n",
        "    \n",
        "    def get_time_steps( self ):\n",
        "        \"\"\" get the number of time steps that the test ran for \"\"\"\n",
        "        return self.total_steps\n",
        "    \n",
        "    def select_socket( self, t ):\n",
        "        \"\"\" Greedy Socket Selection\"\"\"\n",
        "        \n",
        "        # choose the socket with the current highest mean reward or arbitrarily\n",
        "        # select a socket in the case of a tie            \n",
        "        mask = [self.get_number_of_trials()[t][i]<self.possibles[i] for i in range(len(self.sockets))]\n",
        "        #print(mask)\n",
        "        available = [self.sockets[i] for i in range(len(self.sockets)) if (mask[i])]\n",
        "        socket_max = random_argmax([socket.sample(t+1) for socket in available]) \n",
        "        #print(socket_max)\n",
        "        socket_index = self.sockets.index(available[socket_max])\n",
        "        return socket_index     \n",
        "    \n",
        "    def return_increments(self, decisions_to_consider):\n",
        "        presence = np.array([i/len(decisions_to_consider) for i in self.possibles])\n",
        "        selected_presence = np.array(self.get_socket_percentages())\n",
        "        diff = np.subtract(selected_presence, presence)\n",
        "        diff = np.divide(diff,presence, out=np.zeros_like(selected_presence), where=presence!=0)\n",
        "        #print(diff)\n",
        "        #print(diff.sum())\n",
        "        return diff\n",
        "    \n",
        "    def run( self, decisions_to_consider, max_percent_decisions=1, prints_bool = True):  \n",
        "        \"\"\" perform a single run, over the set of sockets, \n",
        "            for the defined number of steps \"\"\"\n",
        "        \n",
        "        # reset the run counters\n",
        "        self.initialize_run(len(decisions_to_consider))\n",
        "\n",
        "        self.possibles = [0]*8 #TODO: DEPENDS ON N OF CLUSTER (DECISIONS.UNIQUE() ISNT ENOUGH BECAUSE IT CAN LACK SOME INSTANCES)\n",
        "        for i in np.unique(np.array(decisions_to_consider)):\n",
        "          self.possibles[i] = decisions_to_consider.count(i) \n",
        "\n",
        "        usos = 0\n",
        "        usos_maxims = math.floor(max_percent_decisions*len(decisions_to_consider))\n",
        "        #print(usos_maxims)\n",
        "\n",
        "        # loop for the specified number of time-steps\n",
        "        for t in range(len(decisions_to_consider)):\n",
        "\n",
        "            # get information about all sockets at the start of the time step\n",
        "            self.socket_stats[t] = self.get_socket_stats(t)            \n",
        "            \n",
        "            # select a socket\n",
        "            socket_index = self.select_socket(t)\n",
        "            #if(decisions_to_consider[t]==socket_index):\n",
        "            if(self.get_number_of_trials()[t][socket_index]<self.possibles[socket_index]):\n",
        "              # charge from the chosen socket and update its mean reward value\n",
        "              self.charge_and_update(socket_index)\n",
        "              usos+=1\n",
        "              \n",
        "              if usos > usos_maxims:\n",
        "                  #print(usos,usos_maxims)\n",
        "                  break\n",
        "        # save the actual number of steps that have been run\n",
        "        self.total_steps = t    \n",
        "    \n",
        "        # get the stats for each socket at the end of the run        \n",
        "        self.socket_stats[t+1] = self.get_socket_stats(t+1)           \n",
        "        \n",
        "        if(prints_bool):\n",
        "          print(\"Reward distribution:\",[s.q for s in self.sockets])\n",
        "          #print(\"Intances of each cluster:\",self.possibles)\n",
        "          print(\"Presence of each in batch (%):\",[100*i/len(decisions_to_consider) for i in self.possibles])\n",
        "          #print(\"Times selected:\",self.get_number_of_trials()[t])\n",
        "          print(\"Relative approval rate (%):\",[round(100*self.get_number_of_trials()[t][i]/self.possibles[i],2) if self.possibles[i]>0.0 else 0.0 for i in range(len(self.possibles))])\n",
        "          print(\"Percentage over total selected (%):\",[round(100*p,2) for p in self.get_socket_percentages()])\n",
        "          #print(\"For a total reward:\",self.total_reward)\n",
        "\n",
        "\n",
        "        return self.total_steps, self.total_reward, self.return_increments(decisions_to_consider)\n",
        "  "
      ],
      "metadata": {
        "id": "6NcpcFYlGLjb"
      },
      "execution_count": 11,
      "outputs": []
    },
    {
      "cell_type": "code",
      "source": [
        "devs = [9.3, 5.67, 11.93, 9.18, 13.66, 8.94, 6.83, 7.91]\n",
        "mus = [92.1, 98.48, 88.49, 80.36, 89.97, 73.78, 97.18, 91.52]\n",
        "#mus,devs = mus_and_devs()\n",
        "test2 = SocketTesterBatch(PowerSocket, mus, devs, 10)\n",
        "\n",
        "decisions = random.choices(range(8), k=1000)\n",
        "decisions = []\n",
        "for i in range(8):\n",
        "  for j in range(125):\n",
        "    decisions.append(i)\n",
        "#decisions = [[125]]*8\n",
        "ts,tr,_ = test2.run(decisions)"
      ],
      "metadata": {
        "colab": {
          "base_uri": "https://localhost:8080/"
        },
        "id": "DbwS4aiVIOdu",
        "outputId": "9af41fc3-0da7-4518-e394-198ca2b49b61"
      },
      "execution_count": 12,
      "outputs": [
        {
          "output_type": "stream",
          "name": "stdout",
          "text": [
            "Reward distribution: [92.1, 98.48, 88.49, 80.36, 89.97, 73.78, 97.18, 91.52]\n",
            "Presence of each in batch (%): [12.5, 12.5, 12.5, 12.5, 12.5, 12.5, 12.5, 12.5]\n",
            "Relative approval rate (%): [100.0, 100.0, 100.0, 100.0, 100.0, 99.2, 100.0, 100.0]\n",
            "Percentage over total selected (%): [12.51, 12.51, 12.51, 12.51, 12.51, 12.41, 12.51, 12.51]\n"
          ]
        }
      ]
    },
    {
      "cell_type": "code",
      "source": [
        "ts,tr,_ = test2.run(decisions, 0.5)"
      ],
      "metadata": {
        "colab": {
          "base_uri": "https://localhost:8080/"
        },
        "id": "1d47Wgx9cXYL",
        "outputId": "b0d4e0c0-2ccb-4556-ecad-47fda3967fff"
      },
      "execution_count": 13,
      "outputs": [
        {
          "output_type": "stream",
          "name": "stdout",
          "text": [
            "Reward distribution: [92.1, 98.48, 88.49, 80.36, 89.97, 73.78, 97.18, 91.52]\n",
            "Presence of each in batch (%): [12.5, 12.5, 12.5, 12.5, 12.5, 12.5, 12.5, 12.5]\n",
            "Relative approval rate (%): [100.0, 100.0, 0.8, 3.2, 72.8, 2.4, 100.0, 20.8]\n",
            "Percentage over total selected (%): [25.0, 25.0, 0.2, 0.8, 18.2, 0.6, 25.0, 5.2]\n"
          ]
        }
      ]
    },
    {
      "cell_type": "code",
      "source": [
        "#sample_bias = [0.555, 0.24, 0.023, 0.011, 0.087, 0.081, 0.001, 0.001]\n",
        "#devs = [9.3, 5.67, 11.93, 9.18, 13.66, 8.94, 6.83, 7.91]\n",
        "#mus = [92.1, 98.48, 88.49, 80.36, 89.97, 73.78, 97.18, 91.52]\n",
        "weights_m = []\n",
        "for m in mus:\n",
        "  weights_m.append((m*m*m*m*m*m*m*m*m)/1000*(m*m*m*m*m*m*m*m*m)/1000)\n",
        "sample_bias_decisions = random.choices(range(8),weights=weights_m,k=1000)\n",
        "print(sample_bias_decisions)\n",
        "ts,tr,_ = test2.run(sample_bias_decisions, 0.8)"
      ],
      "metadata": {
        "colab": {
          "base_uri": "https://localhost:8080/"
        },
        "id": "1nret0OpcuM9",
        "outputId": "dd17d2b2-f365-492a-c7b8-66f104cd399b"
      },
      "execution_count": 14,
      "outputs": [
        {
          "output_type": "stream",
          "name": "stdout",
          "text": [
            "[6, 7, 7, 1, 6, 1, 1, 6, 1, 1, 0, 6, 7, 6, 4, 7, 1, 0, 6, 4, 6, 3, 0, 6, 1, 6, 0, 1, 6, 6, 0, 1, 1, 0, 0, 0, 2, 2, 0, 1, 1, 7, 0, 6, 1, 6, 1, 1, 1, 2, 6, 6, 0, 0, 6, 6, 1, 2, 1, 6, 6, 7, 6, 1, 1, 6, 6, 4, 7, 1, 6, 2, 4, 7, 6, 2, 6, 0, 6, 1, 3, 6, 1, 2, 7, 1, 1, 1, 0, 2, 1, 1, 4, 6, 7, 0, 6, 1, 2, 6, 1, 4, 7, 6, 1, 1, 6, 2, 0, 1, 0, 1, 6, 4, 1, 6, 6, 4, 1, 6, 4, 7, 6, 1, 0, 2, 1, 1, 6, 2, 1, 1, 6, 6, 2, 4, 2, 1, 1, 1, 2, 0, 7, 4, 7, 1, 0, 7, 1, 1, 1, 6, 6, 1, 7, 6, 4, 1, 6, 6, 4, 1, 1, 0, 7, 6, 6, 0, 1, 1, 4, 2, 2, 1, 2, 1, 7, 6, 1, 1, 4, 7, 6, 0, 6, 0, 1, 4, 4, 4, 4, 0, 1, 6, 6, 3, 7, 1, 4, 4, 4, 7, 6, 1, 3, 1, 2, 0, 0, 6, 1, 1, 1, 6, 6, 4, 1, 6, 7, 0, 1, 6, 1, 1, 7, 7, 7, 1, 6, 1, 0, 6, 1, 4, 7, 7, 0, 6, 6, 2, 1, 1, 0, 7, 6, 0, 1, 1, 0, 1, 2, 6, 6, 4, 7, 6, 0, 6, 1, 6, 0, 7, 1, 4, 1, 6, 2, 4, 1, 7, 1, 7, 1, 0, 1, 1, 2, 2, 6, 2, 1, 6, 7, 7, 1, 6, 1, 7, 1, 0, 1, 6, 2, 1, 7, 1, 6, 6, 1, 6, 1, 7, 1, 2, 0, 1, 6, 6, 6, 1, 7, 6, 1, 2, 6, 6, 1, 6, 6, 1, 0, 1, 6, 6, 6, 7, 1, 6, 6, 2, 6, 0, 6, 0, 7, 1, 0, 6, 1, 1, 1, 0, 1, 6, 0, 1, 4, 6, 1, 0, 0, 1, 1, 0, 6, 6, 1, 1, 0, 1, 6, 1, 6, 1, 6, 4, 6, 1, 1, 6, 7, 6, 1, 6, 1, 6, 7, 6, 1, 0, 4, 1, 6, 6, 2, 2, 4, 1, 1, 1, 0, 7, 6, 1, 1, 7, 1, 6, 6, 0, 0, 6, 1, 1, 1, 6, 2, 6, 3, 7, 0, 3, 6, 4, 1, 1, 1, 1, 1, 1, 1, 6, 1, 1, 6, 1, 1, 2, 0, 1, 1, 6, 6, 2, 6, 1, 7, 0, 6, 1, 6, 2, 1, 6, 6, 1, 1, 6, 7, 4, 4, 1, 1, 1, 6, 4, 4, 1, 6, 4, 6, 1, 1, 1, 0, 1, 6, 0, 1, 6, 6, 2, 6, 1, 2, 6, 7, 6, 6, 1, 1, 1, 7, 3, 6, 6, 6, 1, 4, 1, 1, 6, 6, 0, 7, 7, 0, 6, 0, 1, 6, 1, 4, 2, 7, 7, 6, 1, 6, 4, 6, 0, 6, 2, 6, 1, 4, 1, 6, 0, 6, 7, 1, 0, 6, 1, 1, 6, 6, 6, 6, 0, 6, 6, 1, 6, 6, 4, 6, 0, 6, 1, 1, 6, 1, 1, 1, 6, 1, 0, 6, 1, 0, 1, 7, 2, 0, 1, 6, 1, 3, 7, 6, 6, 1, 1, 6, 1, 2, 1, 1, 6, 4, 7, 7, 1, 1, 1, 4, 6, 4, 1, 6, 2, 1, 1, 1, 2, 1, 1, 4, 4, 3, 7, 7, 6, 1, 6, 6, 1, 7, 7, 1, 1, 1, 0, 2, 6, 7, 1, 6, 4, 1, 6, 6, 4, 3, 6, 1, 6, 1, 1, 0, 0, 6, 1, 1, 6, 1, 7, 6, 1, 6, 6, 1, 1, 1, 6, 7, 6, 2, 1, 2, 1, 6, 0, 1, 1, 1, 0, 6, 6, 6, 2, 1, 1, 2, 6, 6, 4, 0, 1, 0, 6, 1, 6, 6, 2, 0, 1, 1, 0, 0, 1, 1, 1, 1, 0, 6, 1, 7, 7, 0, 0, 6, 2, 1, 6, 6, 1, 2, 6, 1, 1, 1, 1, 1, 1, 1, 4, 1, 7, 6, 1, 1, 0, 0, 1, 1, 0, 1, 4, 1, 1, 1, 1, 1, 4, 1, 6, 1, 7, 1, 6, 6, 7, 7, 6, 1, 6, 6, 1, 6, 1, 6, 6, 6, 7, 6, 6, 0, 1, 2, 1, 1, 0, 6, 6, 6, 6, 6, 6, 7, 1, 6, 6, 2, 0, 1, 6, 2, 1, 2, 1, 1, 6, 0, 6, 2, 1, 6, 6, 1, 6, 1, 1, 1, 0, 6, 4, 1, 0, 4, 4, 1, 1, 1, 2, 1, 1, 0, 1, 2, 6, 1, 1, 7, 6, 1, 0, 6, 4, 1, 7, 1, 1, 7, 7, 0, 1, 7, 0, 4, 1, 6, 3, 4, 1, 1, 1, 2, 7, 1, 1, 6, 1, 0, 7, 1, 4, 6, 3, 6, 1, 4, 0, 4, 1, 0, 4, 1, 3, 6, 1, 1, 1, 6, 6, 1, 0, 6, 1, 1, 1, 2, 4, 1, 6, 6, 1, 1, 1, 6, 4, 4, 1, 7, 7, 7, 1, 1, 0, 0, 6, 1, 1, 6, 6, 6, 6, 6, 1, 1, 0, 1, 0, 1, 6, 6, 7, 7, 6, 1, 6, 6, 6, 1, 2, 0, 0, 1, 1, 7, 6, 1, 0, 6, 3, 6, 6, 7, 7, 0, 0, 6, 7, 1, 6, 1, 6, 1, 6, 1, 6, 6, 1, 1, 1, 7, 6, 4, 6, 0, 1, 6, 6, 1, 1, 6, 1, 6, 1, 0, 1, 0, 1, 6, 7, 2, 1, 1, 1, 6, 4, 2, 6, 6, 1, 7, 0, 1, 4, 1, 6, 0, 4, 6, 6, 7, 1, 1, 1, 0, 1, 7, 0, 6, 1, 7, 1, 1, 6, 7, 6, 1, 4, 0, 6, 7, 1, 4, 4, 7, 1, 7, 1, 6, 1, 1, 0]\n",
            "Reward distribution: [92.1, 98.48, 88.49, 80.36, 89.97, 73.78, 97.18, 91.52]\n",
            "Presence of each in batch (%): [11.6, 35.4, 6.3, 1.4, 7.3, 0.0, 28.1, 9.9]\n",
            "Relative approval rate (%): [68.1, 100.0, 4.76, 21.43, 52.05, 0.0, 100.0, 42.42]\n",
            "Percentage over total selected (%): [9.88, 44.25, 0.38, 0.38, 4.75, 0.0, 35.12, 5.25]\n"
          ]
        }
      ]
    },
    {
      "cell_type": "code",
      "source": [
        "a=np.array([9.7, 36.7, 5.6, 0.9, 7.2, 0.1, 29.3, 10.5])\n",
        "#b=np.array([12.12, 45.88, 2.0, 1.12, 0.25, 0.12, 36.62, 1.88])\n",
        "b=np.array([12.12, 45.88, 0.75, 0.25, 1.38, 0.12, 36.62, 2.88])\n",
        "\n",
        "\n",
        "diff = np.subtract(b,a)\n",
        "print(diff)\n",
        "diff = np.divide(diff,a)\n",
        "print(diff)"
      ],
      "metadata": {
        "colab": {
          "base_uri": "https://localhost:8080/"
        },
        "id": "nodQ1TkjnOUB",
        "outputId": "25cc5212-89f2-4225-b532-7858156085cb"
      },
      "execution_count": 15,
      "outputs": [
        {
          "output_type": "stream",
          "name": "stdout",
          "text": [
            "[ 2.42  9.18 -4.85 -0.65 -5.82  0.02  7.32 -7.62]\n",
            "[ 0.24948454  0.25013624 -0.86607143 -0.72222222 -0.80833333  0.2\n",
            "  0.24982935 -0.72571429]\n"
          ]
        }
      ]
    },
    {
      "cell_type": "markdown",
      "source": [
        "###**NON-STATIC**"
      ],
      "metadata": {
        "id": "KFPxU49FzLqe"
      }
    },
    {
      "cell_type": "code",
      "source": [
        "#def f(probs, val, ind):\n",
        "#    probs[ind] += val\n",
        "#    mask = np.ones(len(probs), bool)\n",
        "#    mask[ind] = False\n",
        "#    probs[mask] -= val / (len(probs) - 1)\n",
        "#    return np.clip(probs, 0, np.infty) / np.sum(np.clip(probs, 0, np.infty))"
      ],
      "metadata": {
        "id": "K56OQeDy-HqE"
      },
      "execution_count": 16,
      "outputs": []
    },
    {
      "cell_type": "code",
      "source": [
        "def cummulative_sample(tester,iter,orig,coef):\n",
        "  instances_distribution = np.array(orig)\n",
        "  for i in range(iter):\n",
        "    pbool=False\n",
        "    if(i%math.ceil(iter/4)==0 or i==iter-1):\n",
        "      print(i)\n",
        "      #print(list(instances_distribution))\n",
        "      pbool=True\n",
        "\n",
        "    decisions = random.choices(range(8),weights=list(instances_distribution),k=5000)\n",
        "    ts,tr,ti = tester.run(decisions, 0.8, pbool)\n",
        "    \n",
        "    #for i in range(len(ti)):\n",
        "    #  instances_distribution = f(instances_distribution,ti[i],i)\n",
        "    instances_distribution = np.add(instances_distribution,ti*coef*100)\n",
        "    instances_distribution = np.clip(instances_distribution,0,None)\n",
        "    instances_distribution = instances_distribution / instances_distribution.sum()"
      ],
      "metadata": {
        "id": "GANuWD7KzSzh"
      },
      "execution_count": 17,
      "outputs": []
    },
    {
      "cell_type": "code",
      "source": [
        "o_sample_bias = [0.555, 0.24, 0.023, 0.011, 0.087, 0.081, 0.001, 0.001]\n",
        "#o_sample_bias = weights_m\n",
        "cummulative_sample(test2,35,o_sample_bias,0.001)"
      ],
      "metadata": {
        "colab": {
          "base_uri": "https://localhost:8080/"
        },
        "id": "Gx3cD1zIC4KH",
        "outputId": "0079cea6-765a-4c00-a7dc-2a56f2c5f7e3"
      },
      "execution_count": 18,
      "outputs": [
        {
          "output_type": "stream",
          "name": "stdout",
          "text": [
            "0\n",
            "Reward distribution: [92.1, 98.48, 88.49, 80.36, 89.97, 73.78, 97.18, 91.52]\n",
            "Presence of each in batch (%): [55.66, 23.04, 2.22, 0.94, 9.34, 8.42, 0.22, 0.16]\n",
            "Relative approval rate (%): [95.62, 100.0, 67.57, 8.51, 18.63, 0.48, 100.0, 100.0]\n",
            "Percentage over total selected (%): [66.53, 28.8, 1.88, 0.1, 2.17, 0.05, 0.27, 0.2]\n",
            "9\n",
            "Reward distribution: [92.1, 98.48, 88.49, 80.36, 89.97, 73.78, 97.18, 91.52]\n",
            "Presence of each in batch (%): [30.44, 40.32, 0.0, 0.0, 0.0, 0.0, 19.58, 9.66]\n",
            "Relative approval rate (%): [58.41, 100.0, 0.0, 0.0, 0.0, 0.0, 100.0, 24.02]\n",
            "Percentage over total selected (%): [22.22, 50.4, 0.0, 0.0, 0.0, 0.0, 24.48, 2.9]\n",
            "18\n",
            "Reward distribution: [92.1, 98.48, 88.49, 80.36, 89.97, 73.78, 97.18, 91.52]\n",
            "Presence of each in batch (%): [0.0, 87.86, 0.0, 0.0, 0.0, 0.0, 12.14, 0.0]\n",
            "Relative approval rate (%): [0.0, 84.34, 0.0, 0.0, 0.0, 0.0, 48.6, 0.0]\n",
            "Percentage over total selected (%): [0.0, 92.62, 0.0, 0.0, 0.0, 0.0, 7.38, 0.0]\n",
            "27\n",
            "Reward distribution: [92.1, 98.48, 88.49, 80.36, 89.97, 73.78, 97.18, 91.52]\n",
            "Presence of each in batch (%): [0.0, 93.38, 0.0, 0.0, 0.0, 0.0, 6.62, 0.0]\n",
            "Relative approval rate (%): [0.0, 78.69, 0.0, 0.0, 0.0, 0.0, 98.49, 0.0]\n",
            "Percentage over total selected (%): [0.0, 91.85, 0.0, 0.0, 0.0, 0.0, 8.15, 0.0]\n",
            "34\n",
            "Reward distribution: [92.1, 98.48, 88.49, 80.36, 89.97, 73.78, 97.18, 91.52]\n",
            "Presence of each in batch (%): [0.0, 92.08, 0.0, 0.0, 0.0, 0.0, 7.92, 0.0]\n",
            "Relative approval rate (%): [0.0, 79.82, 0.0, 0.0, 0.0, 0.0, 82.07, 0.0]\n",
            "Percentage over total selected (%): [0.0, 91.88, 0.0, 0.0, 0.0, 0.0, 8.12, 0.0]\n"
          ]
        }
      ]
    },
    {
      "cell_type": "code",
      "source": [
        "no_sample_bias = [1/8]*8\n",
        "cummulative_sample(test2,35,no_sample_bias,0.05)"
      ],
      "metadata": {
        "id": "cJ4_y3P4EDgD",
        "colab": {
          "base_uri": "https://localhost:8080/",
          "height": 621
        },
        "outputId": "a691a4a0-9b81-46c6-a183-0da80943acf4"
      },
      "execution_count": 19,
      "outputs": [
        {
          "output_type": "stream",
          "name": "stdout",
          "text": [
            "0\n",
            "Reward distribution: [92.1, 98.48, 88.49, 80.36, 89.97, 73.78, 97.18, 91.52]\n",
            "Presence of each in batch (%): [12.56, 12.4, 12.2, 12.88, 11.98, 12.44, 12.38, 13.16]\n",
            "Relative approval rate (%): [100.0, 100.0, 100.0, 36.49, 100.0, 4.98, 100.0, 100.0]\n",
            "Percentage over total selected (%): [15.7, 15.5, 15.25, 5.88, 14.98, 0.78, 15.48, 16.45]\n",
            "9\n",
            "Reward distribution: [92.1, 98.48, 88.49, 80.36, 89.97, 73.78, 97.18, 91.52]\n",
            "Presence of each in batch (%): [0.0, 100.0, 0.0, 0.0, 0.0, 0.0, 0.0, 0.0]\n",
            "Relative approval rate (%): [0.0, 80.0, 0.0, 0.0, 0.0, 0.0, 0.0, 0.0]\n",
            "Percentage over total selected (%): [0.0, 100.0, 0.0, 0.0, 0.0, 0.0, 0.0, 0.0]\n",
            "18\n",
            "Reward distribution: [92.1, 98.48, 88.49, 80.36, 89.97, 73.78, 97.18, 91.52]\n",
            "Presence of each in batch (%): [0.0, 100.0, 0.0, 0.0, 0.0, 0.0, 0.0, 0.0]\n",
            "Relative approval rate (%): [0.0, 80.0, 0.0, 0.0, 0.0, 0.0, 0.0, 0.0]\n",
            "Percentage over total selected (%): [0.0, 100.0, 0.0, 0.0, 0.0, 0.0, 0.0, 0.0]\n"
          ]
        },
        {
          "output_type": "error",
          "ename": "KeyboardInterrupt",
          "evalue": "ignored",
          "traceback": [
            "\u001b[0;31m---------------------------------------------------------------------------\u001b[0m",
            "\u001b[0;31mKeyboardInterrupt\u001b[0m                         Traceback (most recent call last)",
            "\u001b[0;32m<ipython-input-19-66935480b1b2>\u001b[0m in \u001b[0;36m<module>\u001b[0;34m()\u001b[0m\n\u001b[1;32m      1\u001b[0m \u001b[0mno_sample_bias\u001b[0m \u001b[0;34m=\u001b[0m \u001b[0;34m[\u001b[0m\u001b[0;36m1\u001b[0m\u001b[0;34m/\u001b[0m\u001b[0;36m8\u001b[0m\u001b[0;34m]\u001b[0m\u001b[0;34m*\u001b[0m\u001b[0;36m8\u001b[0m\u001b[0;34m\u001b[0m\u001b[0;34m\u001b[0m\u001b[0m\n\u001b[0;32m----> 2\u001b[0;31m \u001b[0mcummulative_sample\u001b[0m\u001b[0;34m(\u001b[0m\u001b[0mtest2\u001b[0m\u001b[0;34m,\u001b[0m\u001b[0;36m35\u001b[0m\u001b[0;34m,\u001b[0m\u001b[0mno_sample_bias\u001b[0m\u001b[0;34m,\u001b[0m\u001b[0;36m0.05\u001b[0m\u001b[0;34m)\u001b[0m\u001b[0;34m\u001b[0m\u001b[0;34m\u001b[0m\u001b[0m\n\u001b[0m",
            "\u001b[0;32m<ipython-input-17-97d36fe2945e>\u001b[0m in \u001b[0;36mcummulative_sample\u001b[0;34m(tester, iter, orig, coef)\u001b[0m\n\u001b[1;32m      9\u001b[0m \u001b[0;34m\u001b[0m\u001b[0m\n\u001b[1;32m     10\u001b[0m     \u001b[0mdecisions\u001b[0m \u001b[0;34m=\u001b[0m \u001b[0mrandom\u001b[0m\u001b[0;34m.\u001b[0m\u001b[0mchoices\u001b[0m\u001b[0;34m(\u001b[0m\u001b[0mrange\u001b[0m\u001b[0;34m(\u001b[0m\u001b[0;36m8\u001b[0m\u001b[0;34m)\u001b[0m\u001b[0;34m,\u001b[0m\u001b[0mweights\u001b[0m\u001b[0;34m=\u001b[0m\u001b[0mlist\u001b[0m\u001b[0;34m(\u001b[0m\u001b[0minstances_distribution\u001b[0m\u001b[0;34m)\u001b[0m\u001b[0;34m,\u001b[0m\u001b[0mk\u001b[0m\u001b[0;34m=\u001b[0m\u001b[0;36m5000\u001b[0m\u001b[0;34m)\u001b[0m\u001b[0;34m\u001b[0m\u001b[0;34m\u001b[0m\u001b[0m\n\u001b[0;32m---> 11\u001b[0;31m     \u001b[0mts\u001b[0m\u001b[0;34m,\u001b[0m\u001b[0mtr\u001b[0m\u001b[0;34m,\u001b[0m\u001b[0mti\u001b[0m \u001b[0;34m=\u001b[0m \u001b[0mtester\u001b[0m\u001b[0;34m.\u001b[0m\u001b[0mrun\u001b[0m\u001b[0;34m(\u001b[0m\u001b[0mdecisions\u001b[0m\u001b[0;34m,\u001b[0m \u001b[0;36m0.8\u001b[0m\u001b[0;34m,\u001b[0m \u001b[0mpbool\u001b[0m\u001b[0;34m)\u001b[0m\u001b[0;34m\u001b[0m\u001b[0;34m\u001b[0m\u001b[0m\n\u001b[0m\u001b[1;32m     12\u001b[0m \u001b[0;34m\u001b[0m\u001b[0m\n\u001b[1;32m     13\u001b[0m     \u001b[0;31m#for i in range(len(ti)):\u001b[0m\u001b[0;34m\u001b[0m\u001b[0;34m\u001b[0m\u001b[0;34m\u001b[0m\u001b[0m\n",
            "\u001b[0;32m<ipython-input-11-93e52d11f82d>\u001b[0m in \u001b[0;36mrun\u001b[0;34m(self, decisions_to_consider, max_percent_decisions, prints_bool)\u001b[0m\n\u001b[1;32m    134\u001b[0m \u001b[0;34m\u001b[0m\u001b[0m\n\u001b[1;32m    135\u001b[0m             \u001b[0;31m# select a socket\u001b[0m\u001b[0;34m\u001b[0m\u001b[0;34m\u001b[0m\u001b[0;34m\u001b[0m\u001b[0m\n\u001b[0;32m--> 136\u001b[0;31m             \u001b[0msocket_index\u001b[0m \u001b[0;34m=\u001b[0m \u001b[0mself\u001b[0m\u001b[0;34m.\u001b[0m\u001b[0mselect_socket\u001b[0m\u001b[0;34m(\u001b[0m\u001b[0mt\u001b[0m\u001b[0;34m)\u001b[0m\u001b[0;34m\u001b[0m\u001b[0;34m\u001b[0m\u001b[0m\n\u001b[0m\u001b[1;32m    137\u001b[0m             \u001b[0;31m#if(decisions_to_consider[t]==socket_index):\u001b[0m\u001b[0;34m\u001b[0m\u001b[0;34m\u001b[0m\u001b[0;34m\u001b[0m\u001b[0m\n\u001b[1;32m    138\u001b[0m             \u001b[0;32mif\u001b[0m\u001b[0;34m(\u001b[0m\u001b[0mself\u001b[0m\u001b[0;34m.\u001b[0m\u001b[0mget_number_of_trials\u001b[0m\u001b[0;34m(\u001b[0m\u001b[0;34m)\u001b[0m\u001b[0;34m[\u001b[0m\u001b[0mt\u001b[0m\u001b[0;34m]\u001b[0m\u001b[0;34m[\u001b[0m\u001b[0msocket_index\u001b[0m\u001b[0;34m]\u001b[0m\u001b[0;34m<\u001b[0m\u001b[0mself\u001b[0m\u001b[0;34m.\u001b[0m\u001b[0mpossibles\u001b[0m\u001b[0;34m[\u001b[0m\u001b[0msocket_index\u001b[0m\u001b[0;34m]\u001b[0m\u001b[0;34m)\u001b[0m\u001b[0;34m:\u001b[0m\u001b[0;34m\u001b[0m\u001b[0;34m\u001b[0m\u001b[0m\n",
            "\u001b[0;32m<ipython-input-11-93e52d11f82d>\u001b[0m in \u001b[0;36mselect_socket\u001b[0;34m(self, t)\u001b[0m\n\u001b[1;32m     95\u001b[0m         \u001b[0;31m# choose the socket with the current highest mean reward or arbitrarily\u001b[0m\u001b[0;34m\u001b[0m\u001b[0;34m\u001b[0m\u001b[0;34m\u001b[0m\u001b[0m\n\u001b[1;32m     96\u001b[0m         \u001b[0;31m# select a socket in the case of a tie\u001b[0m\u001b[0;34m\u001b[0m\u001b[0;34m\u001b[0m\u001b[0;34m\u001b[0m\u001b[0m\n\u001b[0;32m---> 97\u001b[0;31m         \u001b[0mmask\u001b[0m \u001b[0;34m=\u001b[0m \u001b[0;34m[\u001b[0m\u001b[0mself\u001b[0m\u001b[0;34m.\u001b[0m\u001b[0mget_number_of_trials\u001b[0m\u001b[0;34m(\u001b[0m\u001b[0;34m)\u001b[0m\u001b[0;34m[\u001b[0m\u001b[0mt\u001b[0m\u001b[0;34m]\u001b[0m\u001b[0;34m[\u001b[0m\u001b[0mi\u001b[0m\u001b[0;34m]\u001b[0m\u001b[0;34m<\u001b[0m\u001b[0mself\u001b[0m\u001b[0;34m.\u001b[0m\u001b[0mpossibles\u001b[0m\u001b[0;34m[\u001b[0m\u001b[0mi\u001b[0m\u001b[0;34m]\u001b[0m \u001b[0;32mfor\u001b[0m \u001b[0mi\u001b[0m \u001b[0;32min\u001b[0m \u001b[0mrange\u001b[0m\u001b[0;34m(\u001b[0m\u001b[0mlen\u001b[0m\u001b[0;34m(\u001b[0m\u001b[0mself\u001b[0m\u001b[0;34m.\u001b[0m\u001b[0msockets\u001b[0m\u001b[0;34m)\u001b[0m\u001b[0;34m)\u001b[0m\u001b[0;34m]\u001b[0m\u001b[0;34m\u001b[0m\u001b[0;34m\u001b[0m\u001b[0m\n\u001b[0m\u001b[1;32m     98\u001b[0m         \u001b[0;31m#print(mask)\u001b[0m\u001b[0;34m\u001b[0m\u001b[0;34m\u001b[0m\u001b[0;34m\u001b[0m\u001b[0m\n\u001b[1;32m     99\u001b[0m         \u001b[0mavailable\u001b[0m \u001b[0;34m=\u001b[0m \u001b[0;34m[\u001b[0m\u001b[0mself\u001b[0m\u001b[0;34m.\u001b[0m\u001b[0msockets\u001b[0m\u001b[0;34m[\u001b[0m\u001b[0mi\u001b[0m\u001b[0;34m]\u001b[0m \u001b[0;32mfor\u001b[0m \u001b[0mi\u001b[0m \u001b[0;32min\u001b[0m \u001b[0mrange\u001b[0m\u001b[0;34m(\u001b[0m\u001b[0mlen\u001b[0m\u001b[0;34m(\u001b[0m\u001b[0mself\u001b[0m\u001b[0;34m.\u001b[0m\u001b[0msockets\u001b[0m\u001b[0;34m)\u001b[0m\u001b[0;34m)\u001b[0m \u001b[0;32mif\u001b[0m \u001b[0;34m(\u001b[0m\u001b[0mmask\u001b[0m\u001b[0;34m[\u001b[0m\u001b[0mi\u001b[0m\u001b[0;34m]\u001b[0m\u001b[0;34m)\u001b[0m\u001b[0;34m]\u001b[0m\u001b[0;34m\u001b[0m\u001b[0;34m\u001b[0m\u001b[0m\n",
            "\u001b[0;32m<ipython-input-11-93e52d11f82d>\u001b[0m in \u001b[0;36m<listcomp>\u001b[0;34m(.0)\u001b[0m\n\u001b[1;32m     95\u001b[0m         \u001b[0;31m# choose the socket with the current highest mean reward or arbitrarily\u001b[0m\u001b[0;34m\u001b[0m\u001b[0;34m\u001b[0m\u001b[0;34m\u001b[0m\u001b[0m\n\u001b[1;32m     96\u001b[0m         \u001b[0;31m# select a socket in the case of a tie\u001b[0m\u001b[0;34m\u001b[0m\u001b[0;34m\u001b[0m\u001b[0;34m\u001b[0m\u001b[0m\n\u001b[0;32m---> 97\u001b[0;31m         \u001b[0mmask\u001b[0m \u001b[0;34m=\u001b[0m \u001b[0;34m[\u001b[0m\u001b[0mself\u001b[0m\u001b[0;34m.\u001b[0m\u001b[0mget_number_of_trials\u001b[0m\u001b[0;34m(\u001b[0m\u001b[0;34m)\u001b[0m\u001b[0;34m[\u001b[0m\u001b[0mt\u001b[0m\u001b[0;34m]\u001b[0m\u001b[0;34m[\u001b[0m\u001b[0mi\u001b[0m\u001b[0;34m]\u001b[0m\u001b[0;34m<\u001b[0m\u001b[0mself\u001b[0m\u001b[0;34m.\u001b[0m\u001b[0mpossibles\u001b[0m\u001b[0;34m[\u001b[0m\u001b[0mi\u001b[0m\u001b[0;34m]\u001b[0m \u001b[0;32mfor\u001b[0m \u001b[0mi\u001b[0m \u001b[0;32min\u001b[0m \u001b[0mrange\u001b[0m\u001b[0;34m(\u001b[0m\u001b[0mlen\u001b[0m\u001b[0;34m(\u001b[0m\u001b[0mself\u001b[0m\u001b[0;34m.\u001b[0m\u001b[0msockets\u001b[0m\u001b[0;34m)\u001b[0m\u001b[0;34m)\u001b[0m\u001b[0;34m]\u001b[0m\u001b[0;34m\u001b[0m\u001b[0;34m\u001b[0m\u001b[0m\n\u001b[0m\u001b[1;32m     98\u001b[0m         \u001b[0;31m#print(mask)\u001b[0m\u001b[0;34m\u001b[0m\u001b[0;34m\u001b[0m\u001b[0;34m\u001b[0m\u001b[0m\n\u001b[1;32m     99\u001b[0m         \u001b[0mavailable\u001b[0m \u001b[0;34m=\u001b[0m \u001b[0;34m[\u001b[0m\u001b[0mself\u001b[0m\u001b[0;34m.\u001b[0m\u001b[0msockets\u001b[0m\u001b[0;34m[\u001b[0m\u001b[0mi\u001b[0m\u001b[0;34m]\u001b[0m \u001b[0;32mfor\u001b[0m \u001b[0mi\u001b[0m \u001b[0;32min\u001b[0m \u001b[0mrange\u001b[0m\u001b[0;34m(\u001b[0m\u001b[0mlen\u001b[0m\u001b[0;34m(\u001b[0m\u001b[0mself\u001b[0m\u001b[0;34m.\u001b[0m\u001b[0msockets\u001b[0m\u001b[0;34m)\u001b[0m\u001b[0;34m)\u001b[0m \u001b[0;32mif\u001b[0m \u001b[0;34m(\u001b[0m\u001b[0mmask\u001b[0m\u001b[0;34m[\u001b[0m\u001b[0mi\u001b[0m\u001b[0;34m]\u001b[0m\u001b[0;34m)\u001b[0m\u001b[0;34m]\u001b[0m\u001b[0;34m\u001b[0m\u001b[0;34m\u001b[0m\u001b[0m\n",
            "\u001b[0;31mKeyboardInterrupt\u001b[0m: "
          ]
        }
      ]
    },
    {
      "cell_type": "code",
      "source": [
        "no_sample_bias = [1/8]*8\n",
        "cummulative_sample(test2,150,no_sample_bias,0.05)"
      ],
      "metadata": {
        "id": "9LV85u5IC5fR"
      },
      "execution_count": null,
      "outputs": []
    },
    {
      "cell_type": "code",
      "source": [
        "def nonstatic(iter, rewards_d_o_mu, rewards_d_o_dev, r_coef, instances_d_o, i_coef):\n",
        "  rewards_d = np.array(rewards_d_o_mu)\n",
        "  instances_d = np.array(instances_d_o)\n",
        "\n",
        "  #iter = 1000\n",
        "  for i in range(iter):\n",
        "    pbool=False\n",
        "    if(i%math.ceil(iter/4)==0 or i==iter-1):\n",
        "        print(i)\n",
        "        #print(list(instances_distribution))\n",
        "        pbool=True\n",
        "\n",
        "    updated_test = SocketTesterBatch(PowerSocket, list(rewards_d), rewards_d_o_dev, 10)\n",
        "    decisions = random.choices(range(8),weights=list(instances_d),k=5000)\n",
        "    ts,tr,ti = updated_test.run(decisions, 0.8, pbool)\n",
        "\n",
        "    increments = ti\n",
        "    #increments = np.subtract(np.array(updated_test.get_socket_percentages()),0.5)\n",
        "    #print(increments)\n",
        "\n",
        "    rewards_d = np.add(rewards_d,increments*r_coef*100)\n",
        "    rewards_d = np.clip(rewards_d,0,100)\n",
        "    #print(rewards_d)\n",
        "\n",
        "    instances_d = np.add(instances_d,increments*i_coef)\n",
        "    instances_d = np.clip(instances_d,0,None)\n",
        "    instances_d = instances_d / instances_d.sum()"
      ],
      "metadata": {
        "id": "92tyyqv-ENiD"
      },
      "execution_count": 20,
      "outputs": []
    },
    {
      "cell_type": "code",
      "source": [
        "#nonstatic(500, rewards_bias, devs_nonbias, 0.001, instances_bias, 0.001)"
      ],
      "metadata": {
        "id": "FejlbpgnQl7X"
      },
      "execution_count": null,
      "outputs": []
    },
    {
      "cell_type": "code",
      "source": [
        "#nonstatic(2500, rewards_nonbias, 0, instances_bias, 0.01)"
      ],
      "metadata": {
        "id": "ESF0BONSY2zn"
      },
      "execution_count": null,
      "outputs": []
    },
    {
      "cell_type": "code",
      "source": [
        "#nonstatic(100, rewards_bias, 0, instances_nonbias, 0)"
      ],
      "metadata": {
        "id": "oqORHeh6aGMa"
      },
      "execution_count": null,
      "outputs": []
    },
    {
      "cell_type": "code",
      "source": [
        "#nonstatic(100, rewards_bias, 0.1, instances_nonbias, 0)"
      ],
      "metadata": {
        "id": "NCzrIuvtRI9q"
      },
      "execution_count": null,
      "outputs": []
    },
    {
      "cell_type": "code",
      "source": [
        "#nonstatic(100, rewards_bias, 0, instances_bias, 0.01)"
      ],
      "metadata": {
        "id": "X0WG3QDAbQ8Y"
      },
      "execution_count": null,
      "outputs": []
    },
    {
      "cell_type": "code",
      "source": [
        "#nonstatic(100, rewards_bias, 0.01, instances_bias, 0)"
      ],
      "metadata": {
        "id": "NOh88ta5bBUq"
      },
      "execution_count": null,
      "outputs": []
    },
    {
      "cell_type": "code",
      "source": [
        "nonstatic(100, rewards_bias, 0.01, instances_bias, 0.01)"
      ],
      "metadata": {
        "id": "JQWqf89ZYh32"
      },
      "execution_count": null,
      "outputs": []
    },
    {
      "cell_type": "markdown",
      "source": [
        "###**SOLUTION?**"
      ],
      "metadata": {
        "id": "B2dnZoLKeN3T"
      }
    },
    {
      "cell_type": "code",
      "source": [
        "class SocketTesterBatchSOLUTION():\n",
        "    \"\"\" create and test a set of sockets over a single test run \"\"\"\n",
        "\n",
        "    def __init__(self, socket, socket_order, socket_vars, confidence_level, sub_opt):  \n",
        "        \n",
        "        self.subopt_coef = sub_opt\n",
        "\n",
        "        # create supplied socket type with a mean value defined by socket order \n",
        "        self.sockets = [socket(socket_order[s], confidence_level, socket_vars[s]) for s in range(len(socket_order))]\n",
        "        \n",
        "        # set the number of sockets equal to the number created\n",
        "        self.number_of_sockets = len(self.sockets)\n",
        "\n",
        "        self.number_of_stats = 2                 \n",
        "            \n",
        "    def initialize_run(self, number_of_steps):\n",
        "        \"\"\" reset counters at the start of a run \"\"\"\n",
        "        \n",
        "        # save the number of steps over which the run will take place\n",
        "        self.number_of_steps = number_of_steps\n",
        "        \n",
        "        # reset the actual number of steps that the test ran for\n",
        "        self.total_steps = 0\n",
        "        \n",
        "        # monitor the total reward obtained over the run\n",
        "        self.total_reward = 0\n",
        "        \n",
        "        # the current total reward at each timestep of the run\n",
        "        self.total_reward_per_timestep = []\n",
        "        \n",
        "        # the actual reward obtained at each timestep\n",
        "        self.reward_per_timestep = []\n",
        "           \n",
        "        # stats for each time-step\n",
        "        # - by default records: estimate, number of trials\n",
        "        self.socket_stats = np.zeros(shape=(number_of_steps+1, \n",
        "                                            self.number_of_sockets, \n",
        "                                            self.number_of_stats))\n",
        "        \n",
        "        # ensure that all sockets are re-initialized\n",
        "        for socket in self.sockets: socket.initialize()\n",
        "            \n",
        "                                \n",
        "    def charge_and_update(self,socket_index):\n",
        "        \"\"\" charge from & update the specified socket and associated parameters \"\"\"\n",
        "        \n",
        "        # charge from the chosen socket and update its mean reward value\n",
        "        reward = self.sockets[socket_index].charge()\n",
        "        self.sockets[socket_index].update(reward)\n",
        "\n",
        "        # update the total reward\n",
        "        self.total_reward += reward   \n",
        "        \n",
        "        # store the current total reward at this timestep\n",
        "        self.total_reward_per_timestep.append(self.total_reward)\n",
        "        \n",
        "        # store the reward obtained at this timestep\n",
        "        self.reward_per_timestep.append(reward)        \n",
        "        \n",
        "        \n",
        "    def get_socket_stats( self, t ):\n",
        "        \"\"\" get the current information from each socket \"\"\"        \n",
        "        socket_stats = [[socket.Q, socket.n] for socket in self.sockets]\n",
        "        return socket_stats     \n",
        "    \n",
        "    def get_mean_reward( self ):\n",
        "        \"\"\" the total reward averaged over the number of time steps \"\"\"\n",
        "        return (self.total_reward/self.total_steps)\n",
        "    \n",
        "    def get_total_reward_per_timestep( self ):\n",
        "        \"\"\" the cumulative total reward at each timestep of the run \"\"\"\n",
        "        return self.total_reward_per_timestep\n",
        "    \n",
        "    def get_reward_per_timestep( self ):\n",
        "        \"\"\" the actual reward obtained at each timestep of the run \"\"\"\n",
        "        return self.reward_per_timestep\n",
        "    \n",
        "    def get_estimates(self):\n",
        "        \"\"\" get the estimate of each socket's reward at each timestep of the run \"\"\"\n",
        "        return self.socket_stats[:,:,0]  \n",
        "    \n",
        "    def get_number_of_trials(self):\n",
        "        \"\"\" get the number of trials of each socket at each timestep of the run \"\"\"\n",
        "        return self.socket_stats[:,:,1]          \n",
        "                \n",
        "    def get_socket_percentages( self ):\n",
        "        \"\"\" get the percentage of times each socket was tried over the run \"\"\"\n",
        "        return (self.socket_stats[:,:,1][self.total_steps]/self.total_steps)        \n",
        "    \n",
        "    def get_time_steps( self ):\n",
        "        \"\"\" get the number of time steps that the test ran for \"\"\"\n",
        "        return self.total_steps\n",
        "    \n",
        "    def bias_presence_hipo(self, t):\n",
        "        presence = np.array([i/sum(self.possibles) for i in self.possibles])\n",
        "        bias_list = []\n",
        "        for c in range(len(self.sockets)):\n",
        "          pulled = self.socket_stats[:,:,1][t].copy()\n",
        "          pulled[c]+=1\n",
        "          selected_presence = np.array(pulled/(t+1))\n",
        "          diff = np.subtract(selected_presence, presence)\n",
        "          #diff = np.divide(diff,presence, out=np.zeros_like(selected_presence), where=presence!=0)\n",
        "          abs = np.abs(diff)\n",
        "          bias_list.append(np.sum(abs))\n",
        "        #return random_argmin(bias_list)\n",
        "        return bias_list\n",
        "\n",
        "    def bias_presence_step(self, t):\n",
        "        presence = np.array([i/sum(self.possibles) for i in self.possibles])\n",
        "        selected_presence = np.array(self.socket_stats[:,:,1][t]/t)\n",
        "        diff = np.subtract(selected_presence, presence)\n",
        "        #diff = np.divide(diff,presence, out=np.zeros_like(selected_presence), where=presence!=0)\n",
        "        abs = np.abs(diff)\n",
        "        return np.sum(abs) \n",
        "\n",
        "    def final_bias_presence(self):\n",
        "        presence = np.array([i/sum(self.possibles) for i in self.possibles])\n",
        "        selected_presence = np.array(self.get_socket_percentages())\n",
        "        diff = np.subtract(selected_presence, presence)\n",
        "        abs = np.abs(diff)\n",
        "        return np.sum(abs) \n",
        "\n",
        "    def bias_rate_hipo(self, t):\n",
        "        bias_list = []\n",
        "        for c in range(len(self.sockets)):\n",
        "          pulled = self.socket_stats[:,:,1][t].copy()\n",
        "          pulled[c]+=1\n",
        "          curr_percentages = np.array([pulled[i]/self.possibles[i] for i in range(len(self.sockets))])\n",
        "          overall_percentages = np.mean(curr_percentages)\n",
        "          diff = np.subtract(overall_percentages,curr_percentages)\n",
        "          abs = np.abs(diff)\n",
        "          bias_list.append(np.sum(abs))\n",
        "        #return random_argmin(bias_list)\n",
        "        return bias_list\n",
        "\n",
        "    def bias_rate_step(self, t):\n",
        "        curr_percentages = np.array([self.get_number_of_trials()[t][i]/self.possibles[i] for i in range(len(self.sockets))])\n",
        "        overall_percentages = np.mean(curr_percentages)\n",
        "        diff = np.subtract(overall_percentages,curr_percentages)\n",
        "        abs = np.abs(diff)\n",
        "        return np.sum(abs) \n",
        "\n",
        "    def final_bias_rate(self):\n",
        "        final_percentages = np.array([self.get_number_of_trials()[self.total_steps][i]/self.possibles[i] for i in range(len(self.sockets))])\n",
        "        overall_percentages = self.capping #np.mean(curr_percentages)\n",
        "        diff = np.subtract(overall_percentages,final_percentages)\n",
        "        abs = np.abs(diff)\n",
        "        return np.sum(abs) \n",
        "    \"\"\"\n",
        "    def select_socket( self, t ):\n",
        "        #CONSTRAINT A\n",
        "        curr_percentages = self.socket_stats[:,:,1][t]/t\n",
        "        mean_percentages = self.capping #np.mean(curr_percentages)\n",
        "        dif_percentages = np.subtract(mean_percentages,self.socket_stats[:,:,1][t]/t)\n",
        "\n",
        "        #CONSTRAINT B\n",
        "        mean_selections = np.mean(self.get_number_of_trials()[t])\n",
        "        dif_selections = np.subtract(mean_selections,self.get_number_of_trials()[t])\n",
        "\n",
        "        #DUES CONSTRAINTS, UNA PER PERCENTATGES, L'ALTRE n SELECTIONS\n",
        "        #dif = dif_percentages #rang 10-30-50\n",
        "        dif = dif_selections   #rang 0-0.01-0.1\n",
        "\n",
        "        #print(dif)\n",
        "\n",
        "        # choose the socket with the current highest mean reward or arbitrarily\n",
        "        # select a socket in the case of a tie            \n",
        "        mask = [self.get_number_of_trials()[t][i]<self.possibles[i] for i in range(len(self.sockets))]\n",
        "        #print(mask)\n",
        "        available_sockets = [self.sockets[s] for s in range(len(self.sockets)) if (mask[s])]\n",
        "        available = [i for i in range(len(self.sockets)) if (mask[i])]\n",
        "\n",
        "        socket_max = random_argmax([self.sockets[socket].sample(t+1)+self.subopt_coef*dif[socket] for socket in available]) \n",
        "        #socket_max = random_argmax([self.sockets[socket].sample(t+1) for socket in available]) \n",
        "\n",
        "        #print(socket_max)\n",
        "        socket_index = self.sockets.index(available_sockets[socket_max])\n",
        "        return socket_index\n",
        "    \"\"\"\n",
        "    def select_socket( self, t ):\n",
        "        \"\"\" Greedy Socket Selection\"\"\"\n",
        "        mask = [self.get_number_of_trials()[t][i]<self.possibles[i] for i in range(len(self.sockets))]\n",
        "        available_sockets = [self.sockets[s] for s in range(len(self.sockets)) if (mask[s])]\n",
        "        available = [i for i in range(len(self.sockets)) if (mask[i])]\n",
        "\n",
        "        socket_max = random_argmax([self.sockets[socket].sample(t+1) for socket in available]) \n",
        "        socket_max_index = self.sockets.index(available_sockets[socket_max])\n",
        "\n",
        "        #print(self.bias_presence_hipo(t))\n",
        "        socket_min = random_argmin([self.bias_presence_hipo(t)[socket] for socket in available]) \n",
        "        #print([self.bias_presence_hipo(t)[socket] for socket in available][socket_min])\n",
        "        socket_min_index = self.sockets.index(available_sockets[socket_min])\n",
        "        #print(self.bias_presence_hipo(t)[socket_min_index])\n",
        "\n",
        "        return_index = random.choices([socket_min_index,socket_max_index],cum_weights=[self.subopt_coef,1])\n",
        "        #print(socket_min_index,socket_max_index,\"->\",return_index[0])\n",
        "        return return_index[0]     \n",
        "    \n",
        "    def return_increments(self, decisions_to_consider):\n",
        "        presence = np.array([i/len(decisions_to_consider) for i in self.possibles])\n",
        "        selected_presence = np.array(self.get_socket_percentages())\n",
        "        diff = np.subtract(selected_presence, presence)\n",
        "        diff = np.divide(diff,presence, out=np.zeros_like(diff), where=presence!=0)\n",
        "        #print(diff)\n",
        "        #print(diff.sum())\n",
        "        return diff\n",
        "    \n",
        "    def run( self, decisions_to_consider, max_percent_decisions=1, prints_bool = True):  \n",
        "        \"\"\" perform a single run, over the set of sockets, \n",
        "            for the defined number of steps \"\"\"\n",
        "        \n",
        "        # reset the run counters\n",
        "        self.initialize_run(len(decisions_to_consider))\n",
        "\n",
        "        self.possibles = [0]*8 #TODO: DEPENDS ON N OF CLUSTER (DECISIONS.UNIQUE() ISNT ENOUGH BECAUSE IT CAN LACK SOME INSTANCES)\n",
        "        for i in np.unique(np.array(decisions_to_consider)):\n",
        "          self.possibles[i] = decisions_to_consider.count(i) \n",
        "        #print(\"possibles\",self.possibles)\n",
        "\n",
        "        usos = 0\n",
        "        self.capping = max_percent_decisions\n",
        "        usos_maxims = math.floor(max_percent_decisions*len(decisions_to_consider))\n",
        "        #print(usos_maxims)\n",
        "\n",
        "        # loop for the specified number of time-steps\n",
        "        for t in range(1,len(decisions_to_consider)):\n",
        "\n",
        "            # get information about all sockets at the start of the time step\n",
        "            self.socket_stats[t] = self.get_socket_stats(t)            \n",
        "            \n",
        "            # select a socket\n",
        "            socket_index = self.select_socket(t)\n",
        "            #if(decisions_to_consider[t]==socket_index):\n",
        "            if(self.get_number_of_trials()[t][socket_index]<self.possibles[socket_index]):\n",
        "              # charge from the chosen socket and update its mean reward value\n",
        "              self.charge_and_update(socket_index)\n",
        "              usos+=1\n",
        "              \n",
        "              if usos > usos_maxims:\n",
        "                  #print(usos,usos_maxims)\n",
        "                  break\n",
        "        # save the actual number of steps that have been run\n",
        "        self.total_steps = t    \n",
        "    \n",
        "        # get the stats for each socket at the end of the run        \n",
        "        self.socket_stats[t+1] = self.get_socket_stats(t+1)           \n",
        "        \n",
        "        self.approval_rates = [round(100*self.get_number_of_trials()[t][i]/self.possibles[i],2) if self.possibles[i]>0.0 else 0.0 for i in range(len(self.possibles))]\n",
        "        if(prints_bool):\n",
        "          #print(\"possibles\",self.possibles)\n",
        "          print(\"Reward distribution:\",[round(s.q,2) for s in self.sockets])\n",
        "          #print(\"Intances of each cluster:\",self.possibles)\n",
        "          print(\"Presence of each in batch (%):\",[100*i/len(decisions_to_consider) for i in self.possibles])\n",
        "          #print(\"Times selected:\",self.get_number_of_trials()[t])\n",
        "          print(\"Relative approval rate (%):\",self.approval_rates)\n",
        "          print(\"Percentage over total selected (%):\",[round(100*p,2) for p in self.get_socket_percentages()])\n",
        "          print(\"Total reward:\",self.total_reward,\"|| and presence bias:\",self.final_bias_presence())\n",
        "          #print(\"For a total reward:\",self.total_reward)\n",
        "          #print(self.return_increments(decisions_to_consider))\n",
        "        return_dic = {\n",
        "            \"total_steps\":self.total_steps,\n",
        "            \"total_reward\":self.total_reward,\n",
        "            \"increments\":self.return_increments(decisions_to_consider),\n",
        "            \"bias_presence\":self.final_bias_presence(),\n",
        "            \"percentages\":self.approval_rates\n",
        "        }\n",
        "        return return_dic\n",
        "  "
      ],
      "metadata": {
        "id": "3LvzuKndeOlS"
      },
      "execution_count": 21,
      "outputs": []
    },
    {
      "cell_type": "code",
      "source": [
        "rewards_bias = np.array([.8555, .8193, .8284, .7994, .7103, .6635, .7471, .6731])\n",
        "rewards_nonbias = [0.8]*8\n",
        "devs_nonbias = [0]*8\n",
        "\n",
        "instances_bias = np.array([0.555, 0.24, 0.023, 0.011, 0.087, 0.081, 0.001, 0.001])\n",
        "instances_nonbias = [1/8]*8\n",
        "\n",
        "sol_test = SocketTesterBatchSOLUTION(PowerSocket, rewards_bias, devs_nonbias, 0.05, 0)\n",
        "decisions = random.choices(range(8),weights=list(instances_bias),k=5000)\n",
        "rd = sol_test.run(decisions, 0.8, True)"
      ],
      "metadata": {
        "colab": {
          "base_uri": "https://localhost:8080/",
          "height": 246
        },
        "id": "A128ar06rM8p",
        "outputId": "130d3687-9a54-4c62-820c-ddb3669ce321"
      },
      "execution_count": 5,
      "outputs": [
        {
          "output_type": "error",
          "ename": "NameError",
          "evalue": "ignored",
          "traceback": [
            "\u001b[0;31m---------------------------------------------------------------------------\u001b[0m",
            "\u001b[0;31mNameError\u001b[0m                                 Traceback (most recent call last)",
            "\u001b[0;32m<ipython-input-5-75b5d1c5a803>\u001b[0m in \u001b[0;36m<module>\u001b[0;34m()\u001b[0m\n\u001b[1;32m      6\u001b[0m \u001b[0minstances_nonbias\u001b[0m \u001b[0;34m=\u001b[0m \u001b[0;34m[\u001b[0m\u001b[0;36m1\u001b[0m\u001b[0;34m/\u001b[0m\u001b[0;36m8\u001b[0m\u001b[0;34m]\u001b[0m\u001b[0;34m*\u001b[0m\u001b[0;36m8\u001b[0m\u001b[0;34m\u001b[0m\u001b[0;34m\u001b[0m\u001b[0m\n\u001b[1;32m      7\u001b[0m \u001b[0;34m\u001b[0m\u001b[0m\n\u001b[0;32m----> 8\u001b[0;31m \u001b[0msol_test\u001b[0m \u001b[0;34m=\u001b[0m \u001b[0mSocketTesterBatchSOLUTION\u001b[0m\u001b[0;34m(\u001b[0m\u001b[0mPowerSocket\u001b[0m\u001b[0;34m,\u001b[0m \u001b[0mrewards_bias\u001b[0m\u001b[0;34m,\u001b[0m \u001b[0mdevs_nonbias\u001b[0m\u001b[0;34m,\u001b[0m \u001b[0;36m0.05\u001b[0m\u001b[0;34m,\u001b[0m \u001b[0;36m0\u001b[0m\u001b[0;34m)\u001b[0m\u001b[0;34m\u001b[0m\u001b[0;34m\u001b[0m\u001b[0m\n\u001b[0m\u001b[1;32m      9\u001b[0m \u001b[0mdecisions\u001b[0m \u001b[0;34m=\u001b[0m \u001b[0mrandom\u001b[0m\u001b[0;34m.\u001b[0m\u001b[0mchoices\u001b[0m\u001b[0;34m(\u001b[0m\u001b[0mrange\u001b[0m\u001b[0;34m(\u001b[0m\u001b[0;36m8\u001b[0m\u001b[0;34m)\u001b[0m\u001b[0;34m,\u001b[0m\u001b[0mweights\u001b[0m\u001b[0;34m=\u001b[0m\u001b[0mlist\u001b[0m\u001b[0;34m(\u001b[0m\u001b[0minstances_bias\u001b[0m\u001b[0;34m)\u001b[0m\u001b[0;34m,\u001b[0m\u001b[0mk\u001b[0m\u001b[0;34m=\u001b[0m\u001b[0;36m5000\u001b[0m\u001b[0;34m)\u001b[0m\u001b[0;34m\u001b[0m\u001b[0;34m\u001b[0m\u001b[0m\n\u001b[1;32m     10\u001b[0m \u001b[0mrd\u001b[0m \u001b[0;34m=\u001b[0m \u001b[0msol_test\u001b[0m\u001b[0;34m.\u001b[0m\u001b[0mrun\u001b[0m\u001b[0;34m(\u001b[0m\u001b[0mdecisions\u001b[0m\u001b[0;34m,\u001b[0m \u001b[0;36m0.8\u001b[0m\u001b[0;34m,\u001b[0m \u001b[0;32mTrue\u001b[0m\u001b[0;34m)\u001b[0m\u001b[0;34m\u001b[0m\u001b[0;34m\u001b[0m\u001b[0m\n",
            "\u001b[0;31mNameError\u001b[0m: name 'SocketTesterBatchSOLUTION' is not defined"
          ]
        }
      ]
    },
    {
      "cell_type": "code",
      "source": [
        "\"\"\"\n",
        "    def bias_rate_hipo(self, t):\n",
        "        bias_list = []\n",
        "        for c in range(len(self.sockets)):\n",
        "          pulled = self.socket_stats[:,:,1][t].copy()\n",
        "          pulled[c]+=1\n",
        "          curr_percentages = np.array([pulled[i]/self.possibles[i] for i in range(len(self.sockets))])\n",
        "          #overall_percentages = np.mean(curr_percentages)\n",
        "          #diff = np.subtract(overall_percentages,curr_percentages)\n",
        "          diff = np.subtract(self.capping,curr_percentages)\n",
        "          abs = np.abs(diff)\n",
        "          bias_list.append(np.sum(abs))\n",
        "        return bias_list\n",
        "\n",
        "    def bias_rate_step(self, t):\n",
        "        curr_percentages = np.array([self.get_number_of_trials()[t][i]/self.possibles[i] for i in range(len(self.sockets))])\n",
        "        #overall_percentages = np.mean(curr_percentages)\n",
        "        #diff = np.subtract(overall_percentages,curr_percentages)\n",
        "        diff = np.subtract(self.capping,curr_percentages)\n",
        "        abs = np.abs(diff)\n",
        "        return np.sum(abs) \n",
        "\n",
        "    def final_bias_rate(self):\n",
        "        final_percentages = np.array([self.get_number_of_trials()[self.total_steps][i]/self.possibles[i] for i in range(len(self.sockets))])\n",
        "        overall_percentages = np.mean(final_percentages)\n",
        "        diff = np.subtract(overall_percentages,final_percentages)\n",
        "        abs = np.abs(diff)\n",
        "        return np.sum(abs) \n",
        "\"\"\""
      ],
      "metadata": {
        "id": "tPolyOGXleCW",
        "colab": {
          "base_uri": "https://localhost:8080/",
          "height": 184
        },
        "outputId": "1b1d629a-ae8f-43d4-fe00-fa77edd013be"
      },
      "execution_count": 23,
      "outputs": [
        {
          "output_type": "execute_result",
          "data": {
            "text/plain": [
              "'\\n    def bias_rate_hipo(self, t):\\n        bias_list = []\\n        for c in range(len(self.sockets)):\\n          pulled = self.socket_stats[:,:,1][t].copy()\\n          pulled[c]+=1\\n          curr_percentages = np.array([pulled[i]/self.possibles[i] for i in range(len(self.sockets))])\\n          #overall_percentages = np.mean(curr_percentages)\\n          #diff = np.subtract(overall_percentages,curr_percentages)\\n          diff = np.subtract(self.capping,curr_percentages)\\n          abs = np.abs(diff)\\n          bias_list.append(np.sum(abs))\\n        return bias_list\\n\\n    def bias_rate_step(self, t):\\n        curr_percentages = np.array([self.get_number_of_trials()[t][i]/self.possibles[i] for i in range(len(self.sockets))])\\n        #overall_percentages = np.mean(curr_percentages)\\n        #diff = np.subtract(overall_percentages,curr_percentages)\\n        diff = np.subtract(self.capping,curr_percentages)\\n        abs = np.abs(diff)\\n        return np.sum(abs) \\n\\n    def final_bias_rate(self):\\n        final_percentages = np.array([self.get_number_of_trials()[self.total_steps][i]/self.possibles[i] for i in range(len(self.sockets))])\\n        overall_percentages = np.mean(final_percentages)\\n        diff = np.subtract(overall_percentages,final_percentages)\\n        abs = np.abs(diff)\\n        return np.sum(abs) \\n'"
            ],
            "application/vnd.google.colaboratory.intrinsic+json": {
              "type": "string"
            }
          },
          "metadata": {},
          "execution_count": 23
        }
      ]
    },
    {
      "cell_type": "code",
      "source": [
        "class SocketTesterBatchSOLUTIONProb():\n",
        "    \"\"\" create and test a set of sockets over a single test run \"\"\"\n",
        "\n",
        "    def __init__(self, socket, socket_order, confidence_level, sub_opt):  \n",
        "        \n",
        "        self.subopt_coef = sub_opt/2\n",
        "\n",
        "        # create supplied socket type with a mean value defined by socket order \n",
        "        self.sockets = [socket(socket_order[s], confidence_level) for s in range(len(socket_order))]\n",
        "        \n",
        "        # set the number of sockets equal to the number created\n",
        "        self.number_of_sockets = len(self.sockets)\n",
        "\n",
        "        self.number_of_stats = 2                 \n",
        "            \n",
        "    def initialize_run(self, number_of_steps):\n",
        "        \"\"\" reset counters at the start of a run \"\"\"\n",
        "        \n",
        "        # save the number of steps over which the run will take place\n",
        "        self.number_of_steps = number_of_steps\n",
        "        \n",
        "        # reset the actual number of steps that the test ran for\n",
        "        self.total_steps = 0\n",
        "        \n",
        "        # monitor the total reward obtained over the run\n",
        "        self.total_reward = 0\n",
        "        \n",
        "        # the current total reward at each timestep of the run\n",
        "        self.total_reward_per_timestep = []\n",
        "        \n",
        "        # the actual reward obtained at each timestep\n",
        "        self.reward_per_timestep = []\n",
        "           \n",
        "        # stats for each time-step\n",
        "        # - by default records: estimate, number of trials\n",
        "        self.socket_stats = np.zeros(shape=(number_of_steps+1, \n",
        "                                            self.number_of_sockets, \n",
        "                                            self.number_of_stats))\n",
        "        \n",
        "        # ensure that all sockets are re-initialized\n",
        "        for socket in self.sockets: socket.initialize()\n",
        "            \n",
        "                                \n",
        "    def charge_and_update(self,socket_index):\n",
        "        \"\"\" charge from & update the specified socket and associated parameters \"\"\"\n",
        "        \n",
        "        # charge from the chosen socket and update its mean reward value\n",
        "        reward = self.sockets[socket_index].charge()\n",
        "        self.sockets[socket_index].update(reward)\n",
        "\n",
        "        # update the total reward\n",
        "        self.total_reward += reward   \n",
        "        \n",
        "        # store the current total reward at this timestep\n",
        "        self.total_reward_per_timestep.append(self.total_reward)\n",
        "        \n",
        "        # store the reward obtained at this timestep\n",
        "        self.reward_per_timestep.append(reward)        \n",
        "        \n",
        "        \n",
        "    def get_socket_stats( self, t ):\n",
        "        \"\"\" get the current information from each socket \"\"\"        \n",
        "        socket_stats = [[socket.Q, socket.n] for socket in self.sockets]\n",
        "        return socket_stats     \n",
        "    \n",
        "    def get_mean_reward( self ):\n",
        "        \"\"\" the total reward averaged over the number of time steps \"\"\"\n",
        "        return (self.total_reward/self.total_steps)\n",
        "    \n",
        "    def get_total_reward_per_timestep( self ):\n",
        "        \"\"\" the cumulative total reward at each timestep of the run \"\"\"\n",
        "        return self.total_reward_per_timestep\n",
        "    \n",
        "    def get_reward_per_timestep( self ):\n",
        "        \"\"\" the actual reward obtained at each timestep of the run \"\"\"\n",
        "        return self.reward_per_timestep\n",
        "    \n",
        "    def get_estimates(self):\n",
        "        \"\"\" get the estimate of each socket's reward at each timestep of the run \"\"\"\n",
        "        return self.socket_stats[:,:,0]  \n",
        "    \n",
        "    def get_number_of_trials(self):\n",
        "        \"\"\" get the number of trials of each socket at each timestep of the run \"\"\"\n",
        "        return self.socket_stats[:,:,1]          \n",
        "                \n",
        "    def get_socket_percentages( self ):\n",
        "        \"\"\" get the percentage of times each socket was tried over the run \"\"\"\n",
        "        return (self.socket_stats[:,:,1][self.total_steps]/self.total_steps)        \n",
        "    \n",
        "    def get_time_steps( self ):\n",
        "        \"\"\" get the number of time steps that the test ran for \"\"\"\n",
        "        return self.total_steps\n",
        "    \n",
        "    def bias_presence_hipo(self, t):\n",
        "        presence = np.array([i/sum(self.possibles) for i in self.possibles])\n",
        "        bias_list = []\n",
        "        for c in range(len(self.sockets)):\n",
        "          pulled = self.get_number_of_trials()[t].copy()\n",
        "          pulled[c]+=1\n",
        "          selected_presence = np.array(pulled/(t+1))\n",
        "          diff = np.subtract(selected_presence, presence)\n",
        "          #diff = np.divide(diff,presence, out=np.zeros_like(diff), where=presence!=0)\n",
        "          abs = np.abs(diff)\n",
        "          bias_list.append(np.sum(abs))\n",
        "        return bias_list\n",
        "\n",
        "    def bias_presence_step(self, t):\n",
        "        presence = np.array([i/sum(self.possibles) for i in self.possibles])\n",
        "        selected_presence = np.array(self.get_number_of_trials()[t]/t)\n",
        "        diff = np.subtract(selected_presence, presence)\n",
        "        #diff = np.divide(diff,presence, out=np.zeros_like(diff), where=presence!=0)\n",
        "        abs = np.abs(diff)\n",
        "        return np.sum(abs) \n",
        "\n",
        "    def final_bias_presence(self):\n",
        "        presence = np.array([i/sum(self.possibles) for i in self.possibles])\n",
        "        selected_presence = np.array(self.get_socket_percentages())\n",
        "        diff = np.subtract(selected_presence, presence)\n",
        "        abs = np.abs(diff)\n",
        "        return np.sum(abs) \n",
        "    \n",
        "    def final_bias_rate(self):\n",
        "        final_percentages = np.array([self.get_number_of_trials()[self.total_steps][i]/self.possibles[i] for i in range(len(self.sockets))])\n",
        "        overall_percentages = np.mean(final_percentages)\n",
        "        #print(overall_percentages)\n",
        "        diff = np.subtract(overall_percentages,final_percentages)\n",
        "        abs = np.abs(diff)\n",
        "        return np.sum(abs)\n",
        "\n",
        "    def final_bias_posteriors(self):\n",
        "        #P(c in C_i | c is approved ) = P( c is approved | c in C_i ) * P( c in C_i ) / P( c is approved )\n",
        "        B_A = np.array([self.get_number_of_trials()[self.total_steps][i]/self.possibles[i] for i in range(len(self.sockets))])\n",
        "        A = np.array([i/sum(self.possibles) for i in self.possibles])\n",
        "        B = self.total_steps/sum(self.possibles)\n",
        "        A_B = np.divide(np.multiply(B_A,A),B, out=np.zeros_like(np.multiply(B_A,A)), where=B!=0)\n",
        "        #print(A_B)\n",
        "        diff = np.subtract(np.mean(A_B),A_B)\n",
        "        abs = np.abs(diff)\n",
        "        return np.sum(abs)\n",
        "\n",
        "    def punishing_term(self,bias_func,t):\n",
        "        b_list = bias_func(t)\n",
        "        norm_num = np.subtract(b_list,max(b_list))\n",
        "        norm_denom = np.subtract(max(b_list),min(b_list))\n",
        "        aux_b_list = np.divide(norm_num,norm_denom, out=np.zeros_like(norm_num), where=norm_denom!=0)\n",
        "        return np.multiply(aux_b_list,100)\n",
        "\n",
        "    def select_socket( self, t ):\n",
        "              \n",
        "        mask = [self.get_number_of_trials()[t][i]<self.possibles[i] for i in range(len(self.sockets))]\n",
        "        available_sockets = [self.sockets[s] for s in range(len(self.sockets)) if (mask[s])]\n",
        "        available = [i for i in range(len(self.sockets)) if (mask[i])]\n",
        "\n",
        "        bias_term = self.punishing_term(self.bias_presence_hipo,t)\n",
        "        #print([self.sockets[i].sample(t+1)for i in range(8)])\n",
        "        #print(bias_term)\n",
        "        #print()\n",
        "        socket_max = random_argmax([(1-self.subopt_coef)*self.sockets[socket].sample(t+1)-self.subopt_coef*bias_term[socket] for socket in available]) \n",
        "\n",
        "        socket_index = self.sockets.index(available_sockets[socket_max])\n",
        "        return socket_index\n",
        "    \n",
        "    def select_socket_candidates( self, t ):\n",
        "        \"\"\" Greedy Socket Selection\"\"\"\n",
        "        mask = [self.get_number_of_trials()[t][i]<self.possibles[i] for i in range(len(self.sockets))]\n",
        "        available_sockets = [self.sockets[s] for s in range(len(self.sockets)) if (mask[s])]\n",
        "        available = [i for i in range(len(self.sockets)) if (mask[i])]\n",
        "\n",
        "        socket_max = random_argmax([self.sockets[socket].sample(t+1) for socket in available]) \n",
        "        socket_max_index = self.sockets.index(available_sockets[socket_max])\n",
        "\n",
        "        socket_min = random_argmin([self.bias_presence_hipo(t)[socket] for socket in available]) \n",
        "        socket_min_index = self.sockets.index(available_sockets[socket_min])\n",
        "\n",
        "        return_index = random.choices([socket_min_index,socket_max_index],cum_weights=[self.subopt_coef,1])\n",
        "        #print(socket_min_index,socket_max_index,\"(\",self.subopt_coef,\")->\",return_index[0])\n",
        "        return return_index[0]     \n",
        "    \n",
        "    def return_increments(self, decisions_to_consider):\n",
        "        presence = np.array([i/len(decisions_to_consider) for i in self.possibles])\n",
        "        selected_presence = np.array(self.get_socket_percentages())\n",
        "        diff = np.subtract(selected_presence, presence)\n",
        "        diff1 = np.add(1,diff)\n",
        "        #diff2 = np.divide(diff,presence, out=np.zeros_like(diff), where=presence!=0)\n",
        "        #diff2 = np.add(1,diff2)\n",
        "        #print(diff1,diff2)\n",
        "        #print(diff.sum())\n",
        "        return diff1\n",
        "    \n",
        "    def run( self, decisions_to_consider, max_percent_decisions=1, prints_bool = True):  \n",
        "        \"\"\" perform a single run, over the set of sockets, \n",
        "            for the defined number of steps \"\"\"\n",
        "        \n",
        "        # reset the run counters\n",
        "        self.initialize_run(len(decisions_to_consider))\n",
        "\n",
        "        self.possibles = [0]*8 #TODO: DEPENDS ON N OF CLUSTER (DECISIONS.UNIQUE() ISNT ENOUGH BECAUSE IT CAN LACK SOME INSTANCES)\n",
        "        for i in np.unique(np.array(decisions_to_consider)):\n",
        "          self.possibles[i] = decisions_to_consider.count(i) \n",
        "        #print(\"possibles\",self.possibles)\n",
        "\n",
        "        usos = 0\n",
        "        self.capping = max_percent_decisions\n",
        "        usos_maxims = math.floor(max_percent_decisions*len(decisions_to_consider))\n",
        "        #print(usos_maxims)\n",
        "        self.bias_hist = []\n",
        "        # loop for the specified number of time-steps\n",
        "        for t in range(1,len(decisions_to_consider)):\n",
        "            self.socket_stats[t] = self.get_socket_stats(t)     \n",
        "            if t%10==0:\n",
        "              self.bias_hist.append(self.bias_presence_step(t))\n",
        "\n",
        "            socket_index = self.select_socket(t)\n",
        "            if(self.get_number_of_trials()[t][socket_index]<self.possibles[socket_index]):\n",
        "              # charge from the chosen socket and update its mean reward value\n",
        "              self.charge_and_update(socket_index)\n",
        "              usos+=1\n",
        "              if usos > usos_maxims:\n",
        "                  break\n",
        "        # save the actual number of steps that have been run\n",
        "        self.total_steps = t    \n",
        "    \n",
        "        # get the stats for each socket at the end of the run        \n",
        "        self.socket_stats[t+1] = self.get_socket_stats(t+1)           \n",
        "        \n",
        "        self.approval_rates = [round(100*self.get_number_of_trials()[t][i]/self.possibles[i],2) if self.possibles[i]>0.0 else 0.0 for i in range(len(self.possibles))]\n",
        "        if(prints_bool):\n",
        "          #print(\"possibles\",self.possibles)\n",
        "          print(\"Reward distribution:\",[round(s.q,4) for s in self.sockets])\n",
        "          print(\"Final estimates:\",[round(e/100,4) for e in self.get_estimates()[self.total_steps]])\n",
        "          #print(\"Intances of each cluster:\",self.possibles)\n",
        "          print(\"Presence of each in batch (%):\",[100*i/len(decisions_to_consider) for i in self.possibles])\n",
        "          #print(\"Times selected:\",self.get_number_of_trials()[t])\n",
        "          print(\"Relative approval rate (%):\",self.approval_rates)\n",
        "          print(\"Percentage over total selected (%):\",[round(100*p,2) for p in self.get_socket_percentages()])\n",
        "          print(\"Total reward:\",self.total_reward,\"|| and presence bias:\",self.final_bias_presence())\n",
        "          print(\"Rate bias:\",self.final_bias_rate())\n",
        "          print(\"Posteriors bias:\",self.final_bias_posteriors())\n",
        "          #print(self.return_increments(decisions_to_consider))\n",
        "        return_dic = {\n",
        "            \"total_steps\":self.total_steps,\n",
        "            \"total_reward\":self.total_reward,\n",
        "            \"increments\":self.return_increments(decisions_to_consider),\n",
        "            \"estimates\":[e/100 for e in self.get_estimates()[self.total_steps]],\n",
        "            \"bias_presence\":self.final_bias_presence(),\n",
        "            \"bias_rate\":self.final_bias_rate(),\n",
        "            \"bias_posteriors\":self.final_bias_posteriors(),\n",
        "            \"percentages\":self.approval_rates,\n",
        "            \"bias_hist\":self.bias_hist\n",
        "        }\n",
        "        return return_dic"
      ],
      "metadata": {
        "id": "PjPBKsncLbY3"
      },
      "execution_count": 10,
      "outputs": []
    },
    {
      "cell_type": "code",
      "source": [
        "rewards_bias = np.array([.8555, .8193, .8284, .7994, .7103, .6635, .7471, .6731])\n",
        "rewards_nonbias = [0.8]*8\n",
        "devs_nonbias = [0]*8\n",
        "\n",
        "instances_bias = np.array([0.555, 0.24, 0.023, 0.011, 0.087, 0.081, 0.001, 0.001])\n",
        "instances_nonbias = [1/8]*8"
      ],
      "metadata": {
        "id": "6qdqEOdfJbWX"
      },
      "execution_count": 7,
      "outputs": []
    },
    {
      "cell_type": "code",
      "source": [
        "decisions = random.choices(range(8),weights=list(instances_nonbias),k=1000)"
      ],
      "metadata": {
        "id": "12mwLWeYrc3J"
      },
      "execution_count": 8,
      "outputs": []
    },
    {
      "cell_type": "code",
      "source": [
        "sol_test = SocketTesterBatchSOLUTIONProb(PowerSocketProb, rewards_bias, 10, 0)\n",
        "rd = sol_test.run(decisions, 0.8, True)\n",
        "plt.plot(rd[\"bias_hist\"])"
      ],
      "metadata": {
        "colab": {
          "base_uri": "https://localhost:8080/",
          "height": 468
        },
        "id": "mmJT36EwSL18",
        "outputId": "236bad24-fee2-453a-ed0c-7a5888ff41f0"
      },
      "execution_count": 9,
      "outputs": [
        {
          "output_type": "stream",
          "name": "stdout",
          "text": [
            "Reward distribution: [0.8555, 0.8193, 0.8284, 0.7994, 0.7103, 0.6635, 0.7471, 0.6731]\n",
            "Final estimates: [0.864, 0.7846, 0.8049, 0.8504, 0.6977, 0.6614, 0.0, 0.748]\n",
            "Presence of each in batch (%): [12.5, 13.0, 12.3, 12.7, 13.1, 12.7, 11.4, 12.3]\n",
            "Relative approval rate (%): [100.0, 100.0, 100.0, 100.0, 32.82, 100.0, 1.75, 100.0]\n",
            "Percentage over total selected (%): [15.61, 16.23, 15.36, 15.86, 5.37, 15.86, 0.25, 15.36]\n",
            "Total reward: 62400 || and presence bias: 0.37639200998751554\n",
            "0.7932235168072854\n",
            "Rate bias: 2.481317798312575\n",
            "Posteriors bias: 0.3870162297128589\n",
            "0.7932235168072854\n"
          ]
        },
        {
          "output_type": "execute_result",
          "data": {
            "text/plain": [
              "[<matplotlib.lines.Line2D at 0x7fb97ced86d0>]"
            ]
          },
          "metadata": {},
          "execution_count": 9
        },
        {
          "output_type": "display_data",
          "data": {
            "text/plain": [
              "<Figure size 432x288 with 1 Axes>"
            ],
            "image/png": "[encoded data removed]"
          },
          "metadata": {
            "needs_background": "light"
          }
        }
      ]
    },
    {
      "cell_type": "code",
      "source": [
        "sol_test = SocketTesterBatchSOLUTIONProb(PowerSocketProb, rewards_bias, 10, 0.25)\n",
        "rd = sol_test.run(decisions, 0.8, True)\n",
        "plt.plot(rd[\"bias_hist\"])"
      ],
      "metadata": {
        "id": "1z9nQnr5ra7v"
      },
      "execution_count": null,
      "outputs": []
    },
    {
      "cell_type": "code",
      "source": [
        "sol_test = SocketTesterBatchSOLUTIONProb(PowerSocketProb, rewards_bias, 10, 0.5)\n",
        "rd = sol_test.run(decisions, 0.8, True)\n",
        "plt.plot(rd[\"bias_hist\"])"
      ],
      "metadata": {
        "id": "qLFP4Yjhe6tB"
      },
      "execution_count": null,
      "outputs": []
    },
    {
      "cell_type": "code",
      "source": [
        "sol_test = SocketTesterBatchSOLUTIONProb(PowerSocketProb, rewards_bias, 10, 0.75)\n",
        "rd = sol_test.run(decisions, 0.8, True)\n",
        "plt.plot(rd[\"bias_hist\"])"
      ],
      "metadata": {
        "id": "O1twdS7WwA5H"
      },
      "execution_count": null,
      "outputs": []
    },
    {
      "cell_type": "code",
      "source": [
        "sol_test = SocketTesterBatchSOLUTIONProb(PowerSocketProb, rewards_bias, 10, 1)\n",
        "rd = sol_test.run(decisions, 0.8, True)\n",
        "plt.plot(rd[\"bias_hist\"])"
      ],
      "metadata": {
        "id": "bV4yyv2zvL-U"
      },
      "execution_count": null,
      "outputs": []
    },
    {
      "cell_type": "code",
      "source": [
        "rwd_results = []\n",
        "presence_results = []\n",
        "rate_results = []\n",
        "posteriors_results = []\n",
        "decisions = random.choices(range(8),weights=list(instances_nonbias),k=1000)\n",
        "for sopt in np.arange(0,1.1,0.1):\n",
        "  sopt_i_rwd_results = []\n",
        "  sopt_i_presence_results = []\n",
        "  sopt_i_rate_results = []\n",
        "  sopt_i_posteriors_results = []\n",
        "  sol_test = SocketTesterBatchSOLUTIONProb(PowerSocketProb, rewards_bias, 10, sopt)\n",
        "  for iter in range(25):\n",
        "    rd = sol_test.run(decisions, 0.8, False)\n",
        "    sopt_i_rwd_results.append(rd[\"total_reward\"])\n",
        "    sopt_i_presence_results.append(rd[\"bias_presence\"])\n",
        "    sopt_i_rate_results.append(rd[\"bias_rate\"])\n",
        "    sopt_i_posteriors_results.append(rd[\"bias_posteriors\"])\n",
        "  rwd_results.append([np.mean(sopt_i_rwd_results),np.std(sopt_i_rwd_results)])\n",
        "  presence_results.append([np.mean(sopt_i_presence_results),np.std(sopt_i_presence_results)])\n",
        "  rate_results.append([np.mean(sopt_i_rate_results),np.std(sopt_i_rate_results)])\n",
        "  posteriors_results.append([np.mean(sopt_i_posteriors_results),np.std(sopt_i_posteriors_results)])\n",
        "print([rwd_results[i][0] for i in range(len(rwd_results))])\n",
        "print([presence_results[i][0] for i in range(len(presence_results))])"
      ],
      "metadata": {
        "colab": {
          "base_uri": "https://localhost:8080/"
        },
        "id": "37FXdTsGg4CF",
        "outputId": "115db7b1-9a21-4b75-8d86-16d34ebfc522"
      },
      "execution_count": 11,
      "outputs": [
        {
          "output_type": "stream",
          "name": "stdout",
          "text": [
            "[62216.0, 62472.0, 62020.0, 62584.0, 62324.0, 61720.0, 62060.0, 61928.0, 61992.0, 61936.0, 61436.0]\n",
            "[0.3777037702871411, 0.360718202247191, 0.3447378776529339, 0.360727290886392, 0.30506816479400745, 0.31588923845193506, 0.26436324594257177, 0.20554896379525592, 0.06379665418227214, 0.0025992509363295807, 0.0025992509363295807]\n"
          ]
        }
      ]
    },
    {
      "cell_type": "code",
      "source": [
        "#print([rwd_results[i][0] for i in range(len(rwd_results))])\n",
        "#print([bias_results[i][0] for i in range(len(bias_results))])"
      ],
      "metadata": {
        "id": "X4gQWwS_odLp"
      },
      "execution_count": null,
      "outputs": []
    },
    {
      "cell_type": "code",
      "source": [
        "import matplotlib.pyplot as plt\n",
        "import numpy as np\n",
        "\n",
        "xr = np.arange(0,1.1,0.1)\n",
        "yr = [rwd_results[i][0] for i in range(len(rwd_results))]\n",
        "er = [rwd_results[i][1] for i in range(len(rwd_results))]\n",
        "\n",
        "xpres = np.arange(0,1.1,0.1)\n",
        "ypres = [presence_results[i][0] for i in range(len(presence_results))]\n",
        "epres = [presence_results[i][1] for i in range(len(presence_results))]\n",
        "\n",
        "xrate = np.arange(0,1.1,0.1)\n",
        "yrate = [rate_results[i][0] for i in range(len(rate_results))]\n",
        "erate = [rate_results[i][1] for i in range(len(rate_results))]\n",
        "\n",
        "xpost = np.arange(0,1.1,0.1)\n",
        "ypost = [posteriors_results[i][0] for i in range(len(posteriors_results))]\n",
        "epost = [posteriors_results[i][1] for i in range(len(posteriors_results))]"
      ],
      "metadata": {
        "id": "nbqQlzefqqGN"
      },
      "execution_count": 12,
      "outputs": []
    },
    {
      "cell_type": "code",
      "source": [
        "plt.errorbar(xr, yr, er, linestyle='None', marker='^')\n",
        "plt.show() #total rewards (y) vs subopt value (x)"
      ],
      "metadata": {
        "colab": {
          "base_uri": "https://localhost:8080/",
          "height": 265
        },
        "id": "4dcFsPxOrtu1",
        "outputId": "f7fe577f-9fb6-441b-bb32-bb27d6edee31"
      },
      "execution_count": 13,
      "outputs": [
        {
          "output_type": "display_data",
          "data": {
            "text/plain": [
              "<Figure size 432x288 with 1 Axes>"
            ],
            "image/png": "[encoded data removed]"
          },
          "metadata": {
            "needs_background": "light"
          }
        }
      ]
    },
    {
      "cell_type": "code",
      "source": [
        "plt.errorbar(xpres, ypres, epres, linestyle='None', marker='^')\n",
        "plt.show()  #final bias (y) vs subopt value (x)"
      ],
      "metadata": {
        "colab": {
          "base_uri": "https://localhost:8080/",
          "height": 265
        },
        "id": "Sz6k2Smsnvjk",
        "outputId": "a2795a37-4033-4984-c670-79af8d5d4ac0"
      },
      "execution_count": 14,
      "outputs": [
        {
          "output_type": "display_data",
          "data": {
            "text/plain": [
              "<Figure size 432x288 with 1 Axes>"
            ],
            "image/png": "[encoded data removed]"
          },
          "metadata": {
            "needs_background": "light"
          }
        }
      ]
    },
    {
      "cell_type": "code",
      "source": [
        "plt.errorbar(xrate, yrate, erate, linestyle='None', marker='^')\n",
        "plt.show()  #final bias (y) vs subopt value (x)"
      ],
      "metadata": {
        "colab": {
          "base_uri": "https://localhost:8080/",
          "height": 265
        },
        "id": "ezitRzOmw4Cc",
        "outputId": "70a2315e-b038-4e2f-f8c2-c96779eface2"
      },
      "execution_count": 15,
      "outputs": [
        {
          "output_type": "display_data",
          "data": {
            "text/plain": [
              "<Figure size 432x288 with 1 Axes>"
            ],
            "image/png": "[encoded data removed]"
          },
          "metadata": {
            "needs_background": "light"
          }
        }
      ]
    },
    {
      "cell_type": "code",
      "source": [
        "plt.errorbar(xpost, ypost, epost, linestyle='None', marker='^')\n",
        "plt.show()  #final bias (y) vs subopt value (x)"
      ],
      "metadata": {
        "colab": {
          "base_uri": "https://localhost:8080/",
          "height": 269
        },
        "id": "-BSViMCCw4d0",
        "outputId": "e4ed738d-15f8-41e1-c610-34b160381f71"
      },
      "execution_count": 16,
      "outputs": [
        {
          "output_type": "display_data",
          "data": {
            "text/plain": [
              "<Figure size 432x288 with 1 Axes>"
            ],
            "image/png": "[encoded data removed]"
          },
          "metadata": {
            "needs_background": "light"
          }
        }
      ]
    },
    {
      "cell_type": "code",
      "source": [
        "ma = np.mean([0,0,1,0])\n",
        "mb = np.mean([0,0,1,1])\n",
        "mc = np.mean([0,0,1,0,0,0,1,1])\n",
        "md = (ma+mb)/2\n",
        "print(ma,mb,mc,md)"
      ],
      "metadata": {
        "id": "QL414Ad-jEH6"
      },
      "execution_count": null,
      "outputs": []
    },
    {
      "cell_type": "code",
      "source": [
        "r_coef = 0.5\n",
        "old_r_term = np.multiply([0.25],1-r_coef)\n",
        "new_r_term = np.multiply([0.5],r_coef)\n",
        "rewards_d = np.add(old_r_term,new_r_term)\n",
        "rewards_d = np.clip(rewards_d,0,1)\n",
        "print(rewards_d)"
      ],
      "metadata": {
        "id": "Ad4V-DL820cS"
      },
      "execution_count": null,
      "outputs": []
    },
    {
      "cell_type": "markdown",
      "source": [
        "curr_percentages = self.socket_stats[:,:,1][t]/t\n",
        "mean_percentages = np.mean(curr_percentages)\n",
        "dif_percentages = np.subtract(mean_percentages,self.socket_stats[:,:,1][t]/t)\n",
        "\n",
        "mean_selections = np.mean(self.get_number_of_trials()[t])\n",
        "dif_selections = np.subtract(mean_selections,self.get_number_of_trials()[t])\n",
        "\n",
        "#DUES CONSTRAINTS, UNA PER PERCENTATGES, L'ALTRE n SELECTIONS\n",
        "//dif = dif_percentages #rang 10-30-50\n",
        "\n",
        "dif = dif_selections   #rang 0-0.01-0.1"
      ],
      "metadata": {
        "id": "zs58UXGgp_JC"
      }
    },
    {
      "cell_type": "code",
      "source": [
        "def nonstatic_sol(iter, rewards_d_o_mu, r_coef, instances_d_o, i_coef, sub_opt):\n",
        "  rewards_d = np.array(rewards_d_o_mu)\n",
        "  instances_d = np.array(instances_d_o)\n",
        "\n",
        "  for i in range(iter):\n",
        "    pbool=False\n",
        "    if(i%math.ceil(iter/4)==0 or i==iter-1):\n",
        "        print(i)\n",
        "        pbool=True\n",
        "\n",
        "    updated_test = SocketTesterBatchSOLUTIONProb(PowerSocketProb, list(rewards_d), 10, sub_opt)\n",
        "    decisions = random.choices(range(8),weights=list(instances_d),k=1000)\n",
        "    rd = updated_test.run(decisions, 0.8, pbool)\n",
        "\n",
        "    r_update = rd[\"estimates\"]\n",
        "    i_update = rd[\"increments\"]\n",
        "    #print(i_update)\n",
        "    old_r_term = np.multiply(rewards_d,1-r_coef)\n",
        "    new_r_term = np.multiply(r_update,r_coef)\n",
        "    rewards_d = np.add(old_r_term,new_r_term)\n",
        "    rewards_d = np.clip(rewards_d,0,0.99)\n",
        "\n",
        "    #print(instances_d, i_update, i_update*i_coef)\n",
        "    old_i_term = np.multiply(instances_d,1-i_coef)\n",
        "    new_i_term = np.multiply(np.multiply(instances_d,i_update),i_coef)\n",
        "    instances_d = np.add(old_i_term,new_i_term)\n",
        "    instances_d = np.clip(instances_d,0,None)\n",
        "    instances_d = instances_d / instances_d.sum()"
      ],
      "metadata": {
        "id": "vE47_Xl7NixY"
      },
      "execution_count": 18,
      "outputs": []
    },
    {
      "cell_type": "code",
      "source": [
        "nonstatic_sol(10, rewards_bias, 0.0, instances_nonbias, 0.0, 0)"
      ],
      "metadata": {
        "id": "NEj4PRcM1Pg2"
      },
      "execution_count": null,
      "outputs": []
    },
    {
      "cell_type": "code",
      "source": [
        "nonstatic_sol(10, rewards_bias, 0.0, instances_nonbias, 0.0, 1)"
      ],
      "metadata": {
        "id": "db5bF14UyOqr"
      },
      "execution_count": null,
      "outputs": []
    },
    {
      "cell_type": "code",
      "source": [
        "nonstatic_sol(50, rewards_bias, 0.5, instances_nonbias, 1, 0)"
      ],
      "metadata": {
        "id": "scRNA37hRL-r",
        "colab": {
          "base_uri": "https://localhost:8080/"
        },
        "outputId": "f2f8ca9f-d549-4fbc-a56f-fed9f90f93a6"
      },
      "execution_count": 29,
      "outputs": [
        {
          "output_type": "stream",
          "name": "stdout",
          "text": [
            "0\n",
            "Reward distribution: [0.8555, 0.8193, 0.8284, 0.7994, 0.7103, 0.6635, 0.7471, 0.6731]\n",
            "Final estimates: [0.8235, 0.822, 0.7833, 0.7903, 0.7162, 0.6216, 0.0, 0.678]\n",
            "Presence of each in batch (%): [11.9, 11.8, 12.0, 12.4, 14.8, 11.1, 14.0, 12.0]\n",
            "Relative approval rate (%): [100.0, 100.0, 100.0, 100.0, 100.0, 100.0, 0.71, 49.17]\n",
            "Percentage over total selected (%): [14.86, 14.73, 14.98, 15.48, 18.48, 13.86, 0.12, 7.37]\n",
            "Total reward: 60300 || and presence bias: 0.36893882646691634\n",
            "Rate bias: 2.2517857142857145\n",
            "Posteriors bias: 0.34956304619225964\n",
            "13\n",
            "Reward distribution: [0.706, 0.8399, 0.8593, 0.7474, 0.7712, 0.2936, 0.0109, 0.0067]\n",
            "Final estimates: [0.7143, 0.875, 0.8824, 0.7452, 0.8065, 0.0, 0.0, 0.0]\n",
            "Presence of each in batch (%): [16.1, 12.0, 20.4, 15.7, 16.0, 11.4, 3.9, 4.5]\n",
            "Relative approval rate (%): [100.0, 100.0, 100.0, 100.0, 96.88, 0.88, 2.56, 2.22]\n",
            "Percentage over total selected (%): [20.1, 14.98, 25.47, 19.6, 19.35, 0.12, 0.12, 0.12]\n",
            "Total reward: 64300 || and presence bias: 0.3872609238451935\n",
            "Rate bias: 3.6557685278902383\n",
            "Posteriors bias: 0.741573033707865\n",
            "26\n",
            "Reward distribution: [0.7131, 0.8323, 0.8525, 0.5257, 0.8429, 0.0002, 0.0, 0.0]\n",
            "Final estimates: [0.795, 0.8415, 0.8703, 0.5714, 0.8583, 0.0, 0.0, 0.0]\n",
            "Presence of each in batch (%): [16.1, 10.2, 29.3, 10.5, 25.4, 3.6, 2.7, 2.2]\n",
            "Relative approval rate (%): [100.0, 80.39, 100.0, 6.67, 100.0, 2.78, 3.7, 4.55]\n",
            "Percentage over total selected (%): [20.1, 10.24, 36.58, 0.87, 31.71, 0.12, 0.12, 0.12]\n",
            "Total reward: 67500 || and presence bias: 0.3537827715355805\n",
            "Rate bias: 3.626985541691424\n",
            "Posteriors bias: 1.0187265917602994\n",
            "39\n",
            "Reward distribution: [0.6136, 0.9419, 0.8731, 0.0026, 0.8436, 0.0, 0.0, 0.0]\n",
            "Final estimates: [0.5952, 0.9406, 0.877, 0.0, 0.0, 0.0, 0.0, 0.0]\n",
            "Presence of each in batch (%): [8.9, 10.1, 61.0, 3.8, 12.8, 1.5, 1.0, 0.9]\n",
            "Relative approval rate (%): [94.38, 100.0, 100.0, 2.63, 0.78, 6.67, 10.0, 11.11]\n",
            "Percentage over total selected (%): [10.49, 12.61, 76.15, 0.12, 0.12, 0.12, 0.12, 0.12]\n",
            "Total reward: 68100 || and presence bias: 0.38626716604244693\n",
            "Rate bias: 3.44584573046028\n",
            "Posteriors bias: 1.2759051186017478\n",
            "49\n",
            "Reward distribution: [0.0099, 0.9204, 0.8766, 0.0, 0.0014, 0.0, 0.0, 0.0]\n",
            "Final estimates: [0.0, 0.9474, 0.8955, 0.0, 0.0, 0.0, 0.0, 0.0]\n",
            "Presence of each in batch (%): [2.3, 3.8, 87.4, 1.1, 2.5, 1.3, 0.7, 0.9]\n",
            "Relative approval rate (%): [4.35, 100.0, 86.5, 9.09, 4.0, 7.69, 14.29, 11.11]\n",
            "Percentage over total selected (%): [0.12, 4.74, 94.38, 0.12, 0.12, 0.12, 0.12, 0.12]\n",
            "Total reward: 71400 || and presence bias: 0.15977028714107364\n",
            "Rate bias: 2.544843496193611\n",
            "Posteriors bias: 1.637952559300874\n"
          ]
        }
      ]
    },
    {
      "cell_type": "code",
      "source": [
        "nonstatic_sol(50, rewards_bias, 0.5, instances_nonbias, 1, 0.5)"
      ],
      "metadata": {
        "id": "M5Lj3P8VTCxw",
        "colab": {
          "base_uri": "https://localhost:8080/"
        },
        "outputId": "00677627-3143-4771-bc90-0fc4a088cb1a"
      },
      "execution_count": 30,
      "outputs": [
        {
          "output_type": "stream",
          "name": "stdout",
          "text": [
            "0\n",
            "Reward distribution: [0.8555, 0.8193, 0.8284, 0.7994, 0.7103, 0.6635, 0.7471, 0.6731]\n",
            "Final estimates: [0.8485, 0.8231, 0.8467, 0.792, 0.6452, 0.0, 0.7719, 0.7287]\n",
            "Presence of each in batch (%): [13.2, 13.0, 13.7, 12.5, 11.8, 11.5, 11.4, 12.9]\n",
            "Relative approval rate (%): [100.0, 100.0, 100.0, 100.0, 26.27, 1.74, 100.0, 100.0]\n",
            "Percentage over total selected (%): [16.48, 16.23, 17.1, 15.61, 3.87, 0.25, 14.23, 16.1]\n",
            "Total reward: 63700 || and presence bias: 0.38235455680399494\n",
            "Rate bias: 2.5798452468680915\n",
            "Posteriors bias: 0.4169787765293383\n",
            "13\n",
            "Reward distribution: [0.7981, 0.8412, 0.8451, 0.78, 0.0016, 0.0016, 0.6773, 0.6072]\n",
            "Final estimates: [0.7874, 0.7917, 0.8556, 0.7929, 0.0, 0.0, 0.4, 0.5942]\n",
            "Presence of each in batch (%): [12.7, 16.8, 18.7, 16.9, 4.5, 4.7, 11.9, 13.8]\n",
            "Relative approval rate (%): [100.0, 100.0, 100.0, 100.0, 6.67, 6.38, 4.2, 100.0]\n",
            "Percentage over total selected (%): [15.86, 20.97, 23.35, 21.1, 0.37, 0.37, 0.62, 17.23]\n",
            "Total reward: 61200 || and presence bias: 0.3932858926342072\n",
            "Rate bias: 3.534358424220752\n",
            "Posteriors bias: 0.7215980024968789\n",
            "26\n",
            "Reward distribution: [0.7221, 0.8597, 0.8903, 0.7115, 0.0, 0.0, 0.001, 0.7865]\n",
            "Final estimates: [0.6574, 0.8768, 0.9231, 0.7143, 0.0, 0.0, 0.0, 0.7477]\n",
            "Presence of each in batch (%): [10.8, 27.6, 23.4, 17.6, 1.9, 2.8, 5.2, 10.7]\n",
            "Relative approval rate (%): [100.0, 100.0, 100.0, 39.77, 10.53, 7.14, 1.92, 100.0]\n",
            "Percentage over total selected (%): [13.48, 34.46, 29.21, 8.74, 0.25, 0.25, 0.12, 13.36]\n",
            "Total reward: 66000 || and presence bias: 0.361485642946317\n",
            "Rate bias: 3.40635022871865\n",
            "Posteriors bias: 0.8114856429463171\n",
            "39\n",
            "Reward distribution: [0.6005, 0.8745, 0.9284, 0.0158, 0.0, 0.0, 0.0, 0.0093]\n",
            "Final estimates: [0.5152, 0.8882, 0.9443, 0.0, 0.0, 0.0, 0.0, 0.0]\n",
            "Presence of each in batch (%): [6.7, 38.5, 43.1, 3.6, 1.3, 1.3, 1.8, 3.7]\n",
            "Relative approval rate (%): [49.25, 85.97, 100.0, 2.78, 7.69, 7.69, 5.56, 2.7]\n",
            "Percentage over total selected (%): [4.12, 41.32, 53.81, 0.12, 0.12, 0.12, 0.12, 0.12]\n",
            "Total reward: 71900 || and presence bias: 0.27187016229712857\n",
            "Rate bias: 2.742192080811484\n",
            "Posteriors bias: 1.4032459425717851\n",
            "49\n",
            "Reward distribution: [0.0035, 0.8946, 0.931, 0.0, 0.0, 0.0, 0.0, 0.0]\n",
            "Final estimates: [0.0, 0.9173, 0.9352, 0.0, 0.0, 0.0, 0.0, 0.0]\n",
            "Presence of each in batch (%): [2.5, 25.4, 66.0, 2.4, 0.6, 0.9, 0.9, 1.3]\n",
            "Relative approval rate (%): [4.0, 100.0, 81.82, 4.17, 16.67, 11.11, 11.11, 7.69]\n",
            "Percentage over total selected (%): [0.12, 31.71, 67.42, 0.12, 0.12, 0.12, 0.12, 0.12]\n",
            "Total reward: 73900 || and presence bias: 0.1557702871410736\n",
            "Rate bias: 2.453533411033411\n",
            "Posteriors bias: 1.4831460674157304\n"
          ]
        }
      ]
    },
    {
      "cell_type": "code",
      "source": [
        "nonstatic_sol(50, rewards_bias, 0.5, instances_nonbias, 1, 1)"
      ],
      "metadata": {
        "id": "VRcpM6_wzFKx",
        "colab": {
          "base_uri": "https://localhost:8080/"
        },
        "outputId": "46840ae6-56fa-4a14-e88e-748bee3d8f44"
      },
      "execution_count": 31,
      "outputs": [
        {
          "output_type": "stream",
          "name": "stdout",
          "text": [
            "0\n",
            "Reward distribution: [0.8555, 0.8193, 0.8284, 0.7994, 0.7103, 0.6635, 0.7471, 0.6731]\n",
            "Final estimates: [0.8304, 0.8384, 0.8, 0.75, 0.7075, 0.63, 0.84, 0.6436]\n",
            "Presence of each in batch (%): [14.0, 12.4, 11.2, 11.5, 13.2, 12.5, 12.5, 12.7]\n",
            "Relative approval rate (%): [80.0, 79.84, 80.36, 80.0, 80.3, 80.0, 80.0, 79.53]\n",
            "Percentage over total selected (%): [13.98, 12.36, 11.24, 11.49, 13.23, 12.48, 12.48, 12.61]\n",
            "Total reward: 60500 || and presence bias: 0.002636704119850175\n",
            "Rate bias: 0.013071253739909916\n",
            "Posteriors bias: 0.04744069912609242\n",
            "13\n",
            "Reward distribution: [0.8604, 0.7936, 0.8021, 0.8119, 0.7758, 0.7348, 0.7184, 0.6762]\n",
            "Final estimates: [0.8471, 0.7813, 0.7767, 0.7981, 0.8511, 0.7431, 0.74, 0.6514]\n",
            "Presence of each in batch (%): [10.7, 12.0, 12.9, 13.0, 11.7, 13.6, 12.5, 13.6]\n",
            "Relative approval rate (%): [79.44, 80.0, 79.84, 80.0, 80.34, 80.15, 80.0, 80.15]\n",
            "Percentage over total selected (%): [10.61, 11.99, 12.86, 12.98, 11.74, 13.61, 12.48, 13.61]\n",
            "Total reward: 61700 || and presence bias: 0.002274656679151013\n",
            "Rate bias: 0.013916786293316163\n",
            "Posteriors bias: 0.06242197253433211\n",
            "26\n",
            "Reward distribution: [0.8133, 0.7823, 0.7667, 0.8036, 0.8591, 0.7498, 0.7113, 0.6576]\n",
            "Final estimates: [0.76, 0.7653, 0.7234, 0.8317, 0.9109, 0.729, 0.7568, 0.6591]\n",
            "Presence of each in batch (%): [12.5, 12.2, 11.8, 12.6, 12.6, 13.4, 13.9, 11.0]\n",
            "Relative approval rate (%): [80.0, 80.33, 79.66, 80.16, 80.16, 79.85, 79.86, 80.0]\n",
            "Percentage over total selected (%): [12.48, 12.23, 11.74, 12.61, 12.61, 13.36, 13.86, 10.99]\n",
            "Total reward: 61600 || and presence bias: 0.002312109862671677\n",
            "Rate bias: 0.0128075271810697\n",
            "Posteriors bias: 0.04993757802746571\n",
            "39\n",
            "Reward distribution: [0.8797, 0.7417, 0.8799, 0.8497, 0.9327, 0.7817, 0.7539, 0.781]\n",
            "Final estimates: [0.8384, 0.6957, 0.8349, 0.8526, 0.9293, 0.7807, 0.8444, 0.7941]\n",
            "Presence of each in batch (%): [12.4, 11.5, 13.6, 11.9, 12.4, 14.3, 11.2, 12.7]\n",
            "Relative approval rate (%): [79.84, 80.0, 80.15, 79.83, 79.84, 79.72, 80.36, 80.31]\n",
            "Percentage over total selected (%): [12.36, 11.49, 13.61, 11.86, 12.36, 14.23, 11.24, 12.73]\n",
            "Total reward: 65700 || and presence bias: 0.002808988764044937\n",
            "Rate bias: 0.016017290020711616\n",
            "Posteriors bias: 0.0624219725343321\n",
            "49\n",
            "Reward distribution: [0.8497, 0.7523, 0.8874, 0.8967, 0.9326, 0.808, 0.8485, 0.7416]\n",
            "Final estimates: [0.8544, 0.7925, 0.9223, 0.8621, 0.8879, 0.8111, 0.8617, 0.8273]\n",
            "Presence of each in batch (%): [12.8, 13.3, 12.9, 10.9, 13.3, 11.3, 11.7, 13.8]\n",
            "Relative approval rate (%): [80.47, 79.7, 79.84, 79.82, 80.45, 79.65, 80.34, 79.71]\n",
            "Percentage over total selected (%): [12.86, 13.23, 12.86, 10.86, 13.36, 11.24, 11.74, 13.73]\n",
            "Total reward: 68300 || and presence bias: 0.0042996254681648\n",
            "Rate bias: 0.02539533390239035\n",
            "Posteriors bias: 0.07240948813982521\n"
          ]
        }
      ]
    },
    {
      "cell_type": "code",
      "source": [
        "variances = [10]*8\n",
        "##(5000 per iter)\n",
        "nonstatic_sol(1000, rewards_bias, 0.02, instances_bias, 0.02, 0.1, variances)"
      ],
      "metadata": {
        "id": "SAQmQ6vjii8u"
      },
      "execution_count": null,
      "outputs": []
    },
    {
      "cell_type": "code",
      "source": [
        "variances = [10]*8\n",
        "nonstatic_sol(1000, rewards_bias, 0.04, instances_bias, 0.04, 100, variances)"
      ],
      "metadata": {
        "id": "OqxfJ3T_QfW7"
      },
      "execution_count": null,
      "outputs": []
    },
    {
      "cell_type": "code",
      "source": [
        "from sklearn.preprocessing import MinMaxScaler\n",
        "from sklearn.linear_model import LogisticRegression\n",
        "from sklearn.model_selection import cross_validate\n",
        "import pandas as pd\n",
        "import numpy as np\n",
        "\n",
        "from google.colab import drive # import drive from google colab\n",
        "\n",
        "ROOT = \"/content/drive\"     # default location for the drive\n",
        "print(ROOT)                 # print content of ROOT (Optional)\n",
        "drive.mount(ROOT)\n",
        "\n",
        "unpickled_df = pd.read_csv(\"/content/drive/MyDrive/TFG/hmda/state_AL-GA_actions_taken_1-3.csv\")\n",
        "print(unpickled_df.derived_sex.unique(),'\\n',\n",
        "unpickled_df.derived_race.unique(),'\\n',\n",
        "unpickled_df.derived_ethnicity.unique(),'\\n',\n",
        "unpickled_df.action_taken.unique())\n",
        "\n",
        "subsample = unpickled_df                    \n",
        "\n",
        "print(len(subsample.loc[subsample[\"action_taken\"]==1]),len(subsample.loc[subsample[\"action_taken\"]==3]))\n",
        "subsample = subsample.loc[subsample[\"action_taken\"].isin([1,3])]\n",
        "subsample[\"action_taken\"] = subsample[\"action_taken\"].replace([3],[0])    \n",
        "print(\"action:\",subsample[\"action_taken\"].unique())\n",
        "print(len(subsample.loc[subsample[\"action_taken\"]==1]),len(subsample.loc[subsample[\"action_taken\"]==0]))\n",
        "\n",
        "print(\"race pre:\",subsample[\"derived_race\"].unique())\n",
        "subsample = subsample.loc[subsample[\"derived_race\"].isin([\"White\",\"Black or African American\"])]\n",
        "subsample[\"derived_race\"] = subsample[\"derived_race\"].replace([\"White\",\"Black or African American\"],[0,1])\n",
        "print(\"race:\",subsample[\"derived_race\"].unique())\n",
        "\n",
        "print(\"ethnicity pre:\",subsample[\"derived_ethnicity\"].unique())\n",
        "subsample = subsample.loc[subsample[\"derived_ethnicity\"].isin(['Not Hispanic or Latino','Hispanic or Latino'])]\n",
        "subsample[\"derived_ethnicity\"] = subsample[\"derived_ethnicity\"].replace(['Not Hispanic or Latino','Hispanic or Latino'],[0,1])\n",
        "print(\"ethnicity:\",subsample[\"derived_ethnicity\"].unique())\n",
        "\n",
        "print(\"sex pre\",subsample[\"derived_sex\"].unique())\n",
        "subsample = subsample.loc[subsample[\"derived_sex\"].isin(['Male','Female'])]\n",
        "subsample[\"derived_sex\"] = subsample[\"derived_sex\"].replace(['Male','Female'],[0,1])\n",
        "print(\"sex:\",subsample[\"derived_sex\"].unique())\n",
        "\n",
        "\n",
        "subsample = subsample.loc[subsample[\"interest_rate\"]!='Exempt']\n",
        "subsample[\"interest_rate\"] = pd.to_numeric(subsample[\"interest_rate\"] ) \n",
        "\n",
        "#print(len(subsample.loc[subsample[\"loan_to_value_ratio\"]=='Exempt']))\n",
        "subsample = subsample.loc[subsample[\"loan_to_value_ratio\"]!='Exempt']\n",
        "#print(len(subsample.loc[subsample[\"loan_to_value_ratio\"]=='Exempt']))\n",
        "#print(subsample[\"loan_to_value_ratio\"])\n",
        "subsample[\"loan_to_value_ratio\"] = pd.to_numeric(subsample[\"loan_to_value_ratio\"] )  \n",
        "#print(subsample[\"loan_to_value_ratio\"].mean())\n",
        "\n",
        "subsample = subsample.loc[subsample[\"property_value\"]!='Exempt']\n",
        "subsample[\"property_value\"] = pd.to_numeric(subsample[\"property_value\"] ) \n",
        "\n",
        "print(len(subsample.loc[subsample[\"action_taken\"]==1]),len(subsample.loc[subsample[\"action_taken\"]==0]))\n",
        "\n",
        "print(len(subsample))\n",
        "#subsample = subsample[[\"loan_type\", \"property_type\", \"loan_purpose\", \"loan_amount_000s\",\n",
        "#                            \"action_taken\",\"applicant_ethnicity\",\"applicant_race_1\",\"applicant_sex\",\n",
        "#                           \"applicant_income_000s\"]]\n",
        "print(len(subsample.loc[subsample[\"action_taken\"]==1]),len(subsample.loc[subsample[\"action_taken\"]==0]))\n",
        "print(len(subsample),len(subsample.columns),subsample.isnull().values.sum())\n",
        "\n",
        "#thr=0.25\n",
        "#for col in subsample.columns:\n",
        "#  if (subsample[col].isnull().sum()>thr*len(subsample)):\n",
        "    #subsample.drop(columns=[col])\n",
        "#    print(col)\n",
        "\n",
        "#subsample = subsample.dropna(axis=1,thresh=thr*len(subsample))\n",
        "#subsample = subsample.dropna(axis=0)\n",
        "\n",
        "# Iterate over each column of cc_apps\n",
        "for col in subsample.columns:\n",
        "    # Check if the column is of object type\n",
        "    if subsample[col].dtypes == 'object':\n",
        "        # Impute with the most frequent value\n",
        "        subsample = subsample.fillna(subsample[col].value_counts().index[0])\n",
        "\n",
        "\n",
        "print(len(subsample.loc[subsample[\"action_taken\"]==1]),len(subsample.loc[subsample[\"action_taken\"]==0]))\n",
        "\n",
        "# Count the number of NaNs in the dataset and print the counts to verify\n",
        "print(len(subsample),len(subsample.columns),subsample.isnull().values.sum())\n",
        "cols = [f_ for f_ in subsample.columns if subsample[f_].dtype != 'object']\n",
        "features = cols\n",
        "\n",
        "list_to_remove = ['action_taken','purchaser_type', 'activity_year',\n",
        "                  'denial_reason_1','denial_reason_2','denial_reason_3','sequence_number','application_date_indicator']\n",
        "\n",
        "features = list(set(cols).difference(set(list_to_remove)))\n",
        "\n",
        "X = subsample[features]\n",
        "y = subsample['action_taken']\n",
        "\n",
        "# Import train_test_split\n",
        "from sklearn.model_selection import train_test_split\n",
        "# Split into train and test sets\n",
        "X_train, X_test, y_train, y_test = train_test_split(X,\n",
        "                                y,\n",
        "                                test_size=0.3,\n",
        "                                random_state=2)\n",
        "\n",
        "X_test1, X_test2, y_test1, y_test2 = train_test_split(X_test,\n",
        "                                y_test,\n",
        "                                test_size=0.33,\n",
        "                                random_state=2)\n",
        "\n",
        "scaler = MinMaxScaler(feature_range=(0, 1))\n",
        "rescaledX = scaler.fit_transform(X)\n",
        "rescaledX_train = scaler.fit_transform(X_train)\n",
        "rescaledX_test = scaler.fit_transform(X_test)\n",
        "rescaledX_test1 = scaler.fit_transform(X_test1)\n",
        "rescaledX_test2 = scaler.fit_transform(X_test2)\n",
        "\n",
        "logreg = LogisticRegression(solver=\"liblinear\")\n",
        "\n",
        "scores_dict = cross_validate(logreg,rescaledX_train,y_train,cv=5, return_estimator=True)\n",
        "best = scores_dict[\"estimator\"][0] \n",
        "\n",
        "\n",
        "y_pred = best.predict(rescaledX_test1)\n",
        "from collections import Counter\n",
        "counterpred = Counter(y_pred)\n",
        "countertest = Counter(y_test1)\n",
        "counterall = Counter(y)\n",
        "print(counterpred, countertest, counterall)\n",
        "print(\"Accuracy of logistic regression classifier: \", best.score(rescaledX_test1, y_test1))\n",
        "\n",
        "\n",
        "y_pred = best.predict(rescaledX_test2)\n",
        "counterpred = Counter(y_pred)\n",
        "countertest = Counter(y_test2)\n",
        "counterall = Counter(y)\n",
        "print(counterpred, countertest, counterall)\n",
        "print(\"Accuracy of logistic regression classifier: \", best.score(rescaledX_test2, y_test2))"
      ],
      "metadata": {
        "id": "emXzrJo7lyEp"
      },
      "execution_count": null,
      "outputs": []
    },
    {
      "cell_type": "code",
      "source": [
        "import math\n",
        "def partitions(n_partitions, X, y):\n",
        "  X_partitions = []\n",
        "  y_partitions = []\n",
        "  size_partitions = math.floor(len(X)/n_partitions)\n",
        "  for p in range(n_partitions):\n",
        "    X_partitions.append(X[p*size_partitions:(p+1)*size_partitions])  \n",
        "    y_partitions.append(y[p*size_partitions:(p+1)*size_partitions])\n",
        "  print(len(X), [sum(len(item) for item in X_partitions)], len(X_partitions[0]))\n",
        "  return X_partitions, y_partitions"
      ],
      "metadata": {
        "id": "IegTn5iooJed"
      },
      "execution_count": null,
      "outputs": []
    },
    {
      "cell_type": "code",
      "source": [
        "def create_df(x,xcol,y,ycol):\n",
        "  auxnparray = x.copy()\n",
        "  newdf = pd.DataFrame(auxnparray, columns = xcol)\n",
        "  newdf[ycol] = y.tolist()\n",
        "  return newdf"
      ],
      "metadata": {
        "id": "GPo_JbYdq8Nj"
      },
      "execution_count": null,
      "outputs": []
    },
    {
      "cell_type": "code",
      "source": [
        "def preproc(df):\n",
        "  subgroups = []\n",
        "  instances = []\n",
        "  sensitive = [\"derived_race\",\"derived_ethnicity\",\"derived_sex\"]\n",
        "  R = [\"W\",\"B\"]\n",
        "  E = [\"NH\",\"H\"]\n",
        "  S = [\"M\",\"F\"]\n",
        "  for option in [0,1]:\n",
        "    for option2 in [0,1]:\n",
        "      for option3 in [0,1]:\n",
        "          subgroups.append(df.loc[((df[sensitive[0]]==option) & (df[sensitive[1]]==option2) & (df[sensitive[2]]==option3))])\n",
        "          instances.append(len(subgroups[-1]))\n",
        "  return subgroups, instances"
      ],
      "metadata": {
        "id": "j4BpXFOGokwJ"
      },
      "execution_count": null,
      "outputs": []
    },
    {
      "cell_type": "code",
      "source": [
        "from scipy.stats import norm\n",
        "\n",
        "df = create_df(X,features,y,\"action_taken\")\n",
        "\n",
        "mean1, std1 = norm.fit(df.loc[df[\"action_taken\"]==1.0][\"loan_amount\"])\n",
        "\n",
        "mean0, std0 = norm.fit(df.loc[df[\"action_taken\"]==0.0][\"loan_amount\"])\n",
        "\n",
        "print(mean1, std1)\n",
        "print(mean0, std0)\n",
        "print()\n",
        "sg, ic = preproc(df)\n",
        "for s in sg:\n",
        "  approval_rate = len(s.loc[s[\"action_taken\"]==1.0])/len(s)\n",
        "  print(approval_rate)\n",
        "  mu, std = norm.fit(s[\"loan_amount\"])\n",
        "  print(mu,std)"
      ],
      "metadata": {
        "id": "esjQP1U8r8QN"
      },
      "execution_count": null,
      "outputs": []
    },
    {
      "cell_type": "code",
      "source": [
        "class PowerSocketReal:\n",
        "    \"\"\" the base power socket class \"\"\"\n",
        "    \n",
        "    def __init__(self, q, cl, var=1):                \n",
        "        self.q = q        # the true reward value \n",
        "        self.confidence_level = cl          \n",
        "        self.var = var   \n",
        "        self.initialize() # reset the socket\n",
        "        \n",
        "    def initialize(self):\n",
        "        self.Q = 0   # the estimate of this socket's reward value                \n",
        "        self.n = 0   # the number of times this socket has been tried        \n",
        "    \n",
        "    def charge(self):\n",
        "        \"\"\" return a random amount of charge \"\"\"\n",
        "        \n",
        "        # the reward is a guassian distribution with unit variance around the true\n",
        "        # value 'q'\n",
        "        # value = self.var * np.random.randn() + self.q      \n",
        "\n",
        "        #value = self.q.iloc[self.n][\"action_taken\"]\n",
        "\n",
        "        #value = self.q[\"action_taken\"].sample(n=1).iloc[0]\n",
        "\n",
        "        sample = self.q.sample(n=1)\n",
        "        if (sample[\"action_taken\"].iloc[0]==1.0):\n",
        "          value = sample[\"loan_amount\"].iloc[0]\n",
        "        else:\n",
        "          value = 0.0\n",
        "\n",
        "        # never allow a charge less than 0 to be returned        \n",
        "        return 0 if value < 0 else value\n",
        "               \n",
        "    def update(self,R):\n",
        "        \"\"\" update this socket after it has returned reward value 'R' \"\"\"     \n",
        "    \n",
        "        # increment the number of times this socket has been tried\n",
        "        self.n += 1\n",
        "\n",
        "        # the new estimate of the mean is calculated from the old estimate\n",
        "        self.Q = (1 - 1.0/self.n) * self.Q + (1.0/self.n) * R\n",
        "\n",
        "    def uncertainty(self, t): \n",
        "        \"\"\" calculate the uncertainty in the estimate of this socket's mean \"\"\"\n",
        "        if self.n == 0: return float('inf')                         \n",
        "        return self.confidence_level * (np.sqrt(np.log(t) / self.n))         \n",
        "        \n",
        "    def sample(self,t):\n",
        "        \"\"\" the UCB reward is the estimate of the mean reward plus its uncertainty \"\"\"\n",
        "        return self.Q + self.uncertainty(t) "
      ],
      "metadata": {
        "id": "Ae_OU1CKwcAH"
      },
      "execution_count": null,
      "outputs": []
    },
    {
      "cell_type": "code",
      "source": [
        "class SocketTesterBatchReal():\n",
        "    \"\"\" create and test a set of sockets over a single test run \"\"\"\n",
        "\n",
        "    def __init__(self, socket, socket_order, confidence_level):  \n",
        "        \n",
        "        # create supplied socket type with a mean value defined by socket order \n",
        "        self.sockets = [socket(q, confidence_level) for q in socket_order]     \n",
        "        \n",
        "        # set the number of sockets equal to the number created\n",
        "        self.number_of_sockets = len(self.sockets)\n",
        "\n",
        "        self.number_of_stats = 2                 \n",
        "            \n",
        "    def initialize_run(self, number_of_steps):\n",
        "        \"\"\" reset counters at the start of a run \"\"\"\n",
        "        \n",
        "        # save the number of steps over which the run will take place\n",
        "        self.number_of_steps = number_of_steps\n",
        "        \n",
        "        # reset the actual number of steps that the test ran for\n",
        "        self.total_steps = 0\n",
        "        \n",
        "        # monitor the total reward obtained over the run\n",
        "        self.total_reward = 0\n",
        "        \n",
        "        # the current total reward at each timestep of the run\n",
        "        self.total_reward_per_timestep = []\n",
        "        \n",
        "        # the actual reward obtained at each timestep\n",
        "        self.reward_per_timestep = []\n",
        "           \n",
        "        # stats for each time-step\n",
        "        # - by default records: estimate, number of trials\n",
        "        self.socket_stats = np.zeros(shape=(number_of_steps+1, \n",
        "                                            self.number_of_sockets, \n",
        "                                            self.number_of_stats))\n",
        "        \n",
        "        # ensure that all sockets are re-initialized\n",
        "        for socket in self.sockets: socket.initialize()\n",
        "            \n",
        "                                \n",
        "    def charge_and_update(self,socket_index):\n",
        "        \"\"\" charge from & update the specified socket and associated parameters \"\"\"\n",
        "        \n",
        "        # charge from the chosen socket and update its mean reward value\n",
        "        reward = self.sockets[socket_index].charge()\n",
        "        self.sockets[socket_index].update(reward)\n",
        "\n",
        "        # update the total reward\n",
        "        self.total_reward += reward   \n",
        "        \n",
        "        # store the current total reward at this timestep\n",
        "        self.total_reward_per_timestep.append(self.total_reward)\n",
        "        \n",
        "        # store the reward obtained at this timestep\n",
        "        self.reward_per_timestep.append(reward)        \n",
        "        \n",
        "        \n",
        "    def get_socket_stats( self, t ):\n",
        "        \"\"\" get the current information from each socket \"\"\"        \n",
        "        socket_stats = [[socket.Q, socket.n] for socket in self.sockets]\n",
        "        return socket_stats     \n",
        "    \n",
        "    def get_mean_reward( self ):\n",
        "        \"\"\" the total reward averaged over the number of time steps \"\"\"\n",
        "        return (self.total_reward/self.total_steps)\n",
        "    \n",
        "    def get_total_reward_per_timestep( self ):\n",
        "        \"\"\" the cumulative total reward at each timestep of the run \"\"\"\n",
        "        return self.total_reward_per_timestep\n",
        "    \n",
        "    def get_reward_per_timestep( self ):\n",
        "        \"\"\" the actual reward obtained at each timestep of the run \"\"\"\n",
        "        return self.reward_per_timestep\n",
        "    \n",
        "    def get_estimates(self):\n",
        "        \"\"\" get the estimate of each socket's reward at each timestep of the run \"\"\"\n",
        "        return self.socket_stats[:,:,0]  \n",
        "    \n",
        "    def get_number_of_trials(self):\n",
        "        \"\"\" get the number of trials of each socket at each timestep of the run \"\"\"\n",
        "        return self.socket_stats[:,:,1]          \n",
        "                \n",
        "    def get_socket_percentages( self ):\n",
        "        \"\"\" get the percentage of times each socket was tried over the run \"\"\"\n",
        "        return (self.socket_stats[:,:,1][self.total_steps]/self.total_steps)        \n",
        "    \n",
        "    def get_time_steps( self ):\n",
        "        \"\"\" get the number of time steps that the test ran for \"\"\"\n",
        "        return self.total_steps\n",
        "    \n",
        "    def select_socket( self, t ):\n",
        "        \"\"\" Greedy Socket Selection\"\"\"\n",
        "        \n",
        "        # choose the socket with the current highest mean reward or arbitrarily\n",
        "        # select a socket in the case of a tie            \n",
        "        mask = [self.get_number_of_trials()[t][i]<self.possibles[i] for i in range(len(self.sockets))]\n",
        "        #print(mask)\n",
        "        available = [self.sockets[i] for i in range(len(self.sockets)) if (mask[i])]\n",
        "        #print([socket.sample(t+1) for socket in available])\n",
        "        socket_max = random_argmax([socket.sample(t+1) for socket in available]) \n",
        "        #print(socket_max)\n",
        "        socket_index = self.sockets.index(available[socket_max])\n",
        "        return socket_index     \n",
        "    \n",
        "    def return_increments(self, decisions_to_consider):\n",
        "        presence = np.array([i/len(decisions_to_consider) for i in self.possibles])\n",
        "        selected_presence = np.array(self.get_socket_percentages())\n",
        "        diff = np.subtract(selected_presence, presence)\n",
        "        #print(diff)\n",
        "        #print(diff.sum())\n",
        "        return diff\n",
        "    \n",
        "    def run( self, decisions_to_consider, class_count, max_percent_decisions=1, prints_bool = True):  \n",
        "        \"\"\" perform a single run, over the set of sockets, \n",
        "            for the defined number of steps \"\"\"\n",
        "        \n",
        "        for s in range(len(self.sockets)):\n",
        "          self.sockets[s].q = decisions_to_consider[s]     \n",
        "\n",
        "        # reset the run counters\n",
        "        self.initialize_run(sum(class_count))\n",
        "\n",
        "        self.possibles = class_count\n",
        "        print(self.possibles)\n",
        "\n",
        "        usos = 0\n",
        "        usos_maxims = math.floor(max_percent_decisions*sum(class_count))\n",
        "        #print(usos_maxims)\n",
        "\n",
        "        # loop for the specified number of time-steps\n",
        "        for t in range(sum(class_count)):\n",
        "\n",
        "            # get information about all sockets at the start of the time step\n",
        "            self.socket_stats[t] = self.get_socket_stats(t)            \n",
        "            \n",
        "            # select a socket\n",
        "            socket_index = self.select_socket(t)\n",
        "            #if(decisions_to_consider[t]==socket_index):\n",
        "            if(self.get_number_of_trials()[t][socket_index]<self.possibles[socket_index]):\n",
        "              # charge from the chosen socket and update its mean reward value\n",
        "              self.charge_and_update(socket_index)\n",
        "              usos+=1\n",
        "              \n",
        "              if usos > usos_maxims:\n",
        "                  #print(usos,usos_maxims)\n",
        "                  break\n",
        "        # save the actual number of steps that have been run\n",
        "        self.total_steps = t    \n",
        "    \n",
        "        # get the stats for each socket at the end of the run        \n",
        "        self.socket_stats[t+1] = self.get_socket_stats(t+1)           \n",
        "        \n",
        "        if(prints_bool):\n",
        "          #print(\"Reward distribution:\",[s.q for s in self.sockets])\n",
        "          #print(\"Intances of each cluster:\",self.possibles)\n",
        "          print(\"Presence of each in batch (%):\",[100*i/sum(class_count) for i in self.possibles])\n",
        "          #print(\"Times selected:\",self.get_number_of_trials()[t])\n",
        "          print(\"Relative approval rate (%):\",[round(100*self.get_number_of_trials()[t][i]/self.possibles[i],2) if self.possibles[i]>0.0 else 0.0 for i in range(len(self.possibles))])\n",
        "          print(\"Percentage over total selected (%):\",[round(100*p,2) for p in self.get_socket_percentages()])\n",
        "          #print(\"For a total reward:\",self.total_reward)\n",
        "\n",
        "\n",
        "        return self.total_steps, self.total_reward, self.return_increments(decisions_to_consider)"
      ],
      "metadata": {
        "id": "xXijNePRwjld"
      },
      "execution_count": null,
      "outputs": []
    },
    {
      "cell_type": "code",
      "source": [
        "class SocketTesterBatchRealBudget():\n",
        "    \"\"\" create and test a set of sockets over a single test run \"\"\"\n",
        "\n",
        "    def __init__(self, socket, socket_order, confidence_level):  \n",
        "        \n",
        "        # create supplied socket type with a mean value defined by socket order \n",
        "        self.sockets = [socket(q, confidence_level) for q in socket_order]     \n",
        "        \n",
        "        # set the number of sockets equal to the number created\n",
        "        self.number_of_sockets = len(self.sockets)\n",
        "\n",
        "        self.number_of_stats = 2                 \n",
        "            \n",
        "    def initialize_run(self, number_of_steps):\n",
        "        \"\"\" reset counters at the start of a run \"\"\"\n",
        "        \n",
        "        # save the number of steps over which the run will take place\n",
        "        self.number_of_steps = number_of_steps\n",
        "        \n",
        "        # reset the actual number of steps that the test ran for\n",
        "        self.total_steps = 0\n",
        "        \n",
        "        # monitor the total reward obtained over the run\n",
        "        self.total_reward = 0\n",
        "        \n",
        "        # the current total reward at each timestep of the run\n",
        "        self.total_reward_per_timestep = []\n",
        "        \n",
        "        # the actual reward obtained at each timestep\n",
        "        self.reward_per_timestep = []\n",
        "           \n",
        "        # stats for each time-step\n",
        "        # - by default records: estimate, number of trials\n",
        "        self.socket_stats = np.zeros(shape=(number_of_steps+1, \n",
        "                                            self.number_of_sockets, \n",
        "                                            self.number_of_stats))\n",
        "        \n",
        "        # ensure that all sockets are re-initialized\n",
        "        for socket in self.sockets: socket.initialize()\n",
        "            \n",
        "                                \n",
        "    def charge_and_update(self,socket_index):\n",
        "        \"\"\" charge from & update the specified socket and associated parameters \"\"\"\n",
        "        \n",
        "        # charge from the chosen socket and update its mean reward value\n",
        "        reward = self.sockets[socket_index].charge()\n",
        "        self.sockets[socket_index].update(reward)\n",
        "\n",
        "        # update the total reward\n",
        "        self.total_reward += reward  \n",
        "        self.budget -= reward \n",
        "        \n",
        "        # store the current total reward at this timestep\n",
        "        self.total_reward_per_timestep.append(self.total_reward)\n",
        "        \n",
        "        # store the reward obtained at this timestep\n",
        "        self.reward_per_timestep.append(reward)        \n",
        "        \n",
        "        \n",
        "    def get_socket_stats( self, t ):\n",
        "        \"\"\" get the current information from each socket \"\"\"        \n",
        "        socket_stats = [[socket.Q, socket.n] for socket in self.sockets]\n",
        "        return socket_stats     \n",
        "    \n",
        "    def get_mean_reward( self ):\n",
        "        \"\"\" the total reward averaged over the number of time steps \"\"\"\n",
        "        return (self.total_reward/self.total_steps)\n",
        "    \n",
        "    def get_total_reward_per_timestep( self ):\n",
        "        \"\"\" the cumulative total reward at each timestep of the run \"\"\"\n",
        "        return self.total_reward_per_timestep\n",
        "    \n",
        "    def get_reward_per_timestep( self ):\n",
        "        \"\"\" the actual reward obtained at each timestep of the run \"\"\"\n",
        "        return self.reward_per_timestep\n",
        "    \n",
        "    def get_estimates(self):\n",
        "        \"\"\" get the estimate of each socket's reward at each timestep of the run \"\"\"\n",
        "        return self.socket_stats[:,:,0]  \n",
        "    \n",
        "    def get_number_of_trials(self):\n",
        "        \"\"\" get the number of trials of each socket at each timestep of the run \"\"\"\n",
        "        return self.socket_stats[:,:,1]          \n",
        "                \n",
        "    def get_socket_percentages( self ):\n",
        "        \"\"\" get the percentage of times each socket was tried over the run \"\"\"\n",
        "        return (self.socket_stats[:,:,1][self.total_steps]/self.total_steps)        \n",
        "    \n",
        "    def get_time_steps( self ):\n",
        "        \"\"\" get the number of time steps that the test ran for \"\"\"\n",
        "        return self.total_steps\n",
        "    \n",
        "    def select_socket( self, t ):\n",
        "        \"\"\" Greedy Socket Selection\"\"\"\n",
        "        \n",
        "        # choose the socket with the current highest mean reward or arbitrarily\n",
        "        # select a socket in the case of a tie            \n",
        "        mask = [self.get_number_of_trials()[t][i]<self.possibles[i] for i in range(len(self.sockets))]\n",
        "        #print(mask)\n",
        "        available = [self.sockets[i] for i in range(len(self.sockets)) if (mask[i])]\n",
        "        #print([socket.sample(t+1) for socket in available])\n",
        "        socket_max = random_argmax([socket.sample(t+1) for socket in available]) \n",
        "        #print(socket_max)\n",
        "        socket_index = self.sockets.index(available[socket_max])\n",
        "        return socket_index     \n",
        "    \n",
        "    def return_increments(self, decisions_to_consider):\n",
        "        presence = np.array([i/len(decisions_to_consider) for i in self.possibles])\n",
        "        selected_presence = np.array(self.get_socket_percentages())\n",
        "        diff = np.subtract(selected_presence, presence)\n",
        "        #print(diff)\n",
        "        #print(diff.sum())\n",
        "        return diff\n",
        "    \n",
        "    def run( self, decisions_to_consider, class_count, budget, prints_bool = True):  \n",
        "        \"\"\" perform a single run, over the set of sockets, \n",
        "            for the defined number of steps \"\"\"\n",
        "        \n",
        "        for s in range(len(self.sockets)):\n",
        "          self.sockets[s].q = decisions_to_consider[s]     \n",
        "\n",
        "        # reset the run counters\n",
        "        self.initialize_run(sum(class_count))\n",
        "\n",
        "        self.possibles = class_count\n",
        "        print(self.possibles)\n",
        "\n",
        "        usos = 0\n",
        "        self.budget = budget\n",
        "        #print(usos_maxims)\n",
        "\n",
        "        # loop for the specified number of time-steps\n",
        "        for t in range(sum(class_count)):\n",
        "\n",
        "            # get information about all sockets at the start of the time step\n",
        "            self.socket_stats[t] = self.get_socket_stats(t)            \n",
        "            \n",
        "            # select a socket\n",
        "            socket_index = self.select_socket(t)\n",
        "            #if(decisions_to_consider[t]==socket_index):\n",
        "            if(self.get_number_of_trials()[t][socket_index]<self.possibles[socket_index]):\n",
        "              # charge from the chosen socket and update its mean reward value\n",
        "              self.charge_and_update(socket_index)\n",
        "              usos+=1\n",
        "            if self.budget-max(self.get_estimates()[t]) < 0:\n",
        "              break\n",
        "        # save the actual number of steps that have been run\n",
        "        self.total_steps = t    \n",
        "    \n",
        "        # get the stats for each socket at the end of the run        \n",
        "        self.socket_stats[t+1] = self.get_socket_stats(t+1)           \n",
        "        \n",
        "        if(prints_bool):\n",
        "          #print(\"Reward distribution:\",[s.q for s in self.sockets])\n",
        "          #print(\"Intances of each cluster:\",self.possibles)\n",
        "          print(\"Presence of each in batch (%):\",[100*i/sum(class_count) for i in self.possibles])\n",
        "          #print(\"Times selected:\",self.get_number_of_trials()[t])\n",
        "          print(\"Relative approval rate (%):\",[round(100*self.get_number_of_trials()[t][i]/self.possibles[i],2) if self.possibles[i]>0.0 else 0.0 for i in range(len(self.possibles))])\n",
        "          print(\"Percentage over total selected (%):\",[round(100*p,2) for p in self.get_socket_percentages()])\n",
        "          #print(\"For a total reward:\",self.total_reward)\n",
        "\n",
        "\n",
        "        return self.total_steps, self.total_reward, self.return_increments(decisions_to_consider)"
      ],
      "metadata": {
        "id": "Z96JhtTu457M"
      },
      "execution_count": null,
      "outputs": []
    },
    {
      "cell_type": "code",
      "source": [
        "real_test = SocketTesterBatchReal(PowerSocketReal, [[0]]*8, 5)\n",
        "print(real_test.sockets)\n",
        "\n",
        "\n",
        "X_p, y_p = partitions(4,X,y)\n",
        "for b in range(4):\n",
        "  batch = create_df(X_p[b],features,y_p[b],\"action_taken\")\n",
        "  sg, ic = preproc(batch)\n",
        "  ts,tr,ti = real_test.run(sg, ic, 0.8, True)"
      ],
      "metadata": {
        "id": "iorlUCPu6bVC"
      },
      "execution_count": null,
      "outputs": []
    },
    {
      "cell_type": "code",
      "source": [
        "real_test = SocketTesterBatchRealBudget(PowerSocketReal, [[0]]*8, 5)\n",
        "print(real_test.sockets)\n",
        "\n",
        "\n",
        "X_p, y_p = partitions(10,X,y)\n",
        "for b in range(10):\n",
        "  batch = create_df(X_p[b],features,y_p[b],\"action_taken\")\n",
        "  budget = batch[\"loan_amount\"].sum()\n",
        "  sg, ic = preproc(batch)\n",
        "  ts,tr,ti = real_test.run(sg, ic, 0.8*budget, True)"
      ],
      "metadata": {
        "id": "SlZlmElzzZbA"
      },
      "execution_count": null,
      "outputs": []
    },
    {
      "cell_type": "code",
      "source": [
        "real_test = SocketTesterBatchRealBudget(PowerSocketReal, [[0]]*8, 5)\n",
        "print(real_test.sockets)\n",
        "\n",
        "\n",
        "X_p, y_p = partitions(1,X,y)\n",
        "for b in range(1):\n",
        "  batch = create_df(X_p[b],features,y_p[b],\"action_taken\")\n",
        "  #budget = batch[\"loan_amount\"].sum()\n",
        "  budget=0\n",
        "  sg, ic = preproc(batch)\n",
        "  min_amount = min(ic)\n",
        "  for s in range(len(sg)):\n",
        "    sg[s] = sg[s].sample(n=min_amount)\n",
        "    budget += sg[s][\"loan_amount\"].sum()\n",
        "  ts,tr,ti = real_test.run(sg, [min_amount]*8, 0.8*budget, True)"
      ],
      "metadata": {
        "id": "b-DTTM7J_0Eh"
      },
      "execution_count": null,
      "outputs": []
    }
  ]
}